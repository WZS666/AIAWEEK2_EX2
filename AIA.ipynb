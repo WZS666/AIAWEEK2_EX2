{
 "cells": [
  {
   "cell_type": "markdown",
   "metadata": {},
   "source": [
    "# [AIA _ WHERE AM I 圖像分類](https://www.kaggle.com/c/aia-tc-image-cla-where-am-i/leaderboard \"hello\")"
   ]
  },
  {
   "cell_type": "markdown",
   "metadata": {},
   "source": [
    "### 步驟：<br>\n",
    " 1.定義問題<br>\n",
    " 2.資料匯入<br>\n",
    " 3.資料預處理<br>\n",
    " 4.建立模型<br>\n",
    " 5.進行訓練<br>\n",
    " 6.進行預測<br>\n",
    " \n",
    "## １.定義問題<br>\n",
    "將各種不同類別的照片，分門別類將其放入15種不同的資料夾中。<br>\n",
    "\n",
    "## ２.資料匯入"
   ]
  },
  {
   "cell_type": "code",
   "execution_count": 1,
   "metadata": {},
   "outputs": [],
   "source": [
    "from sklearn.model_selection import train_test_split\n",
    "from sklearn.utils import shuffle\n",
    "import tensorflow as tf\n",
    "import numpy as np\n",
    "import os\n",
    "import pandas as pd\n",
    "import numpy as np\n",
    "import glob\n",
    "import cv2\n",
    "\n",
    "from tqdm import tqdm\n",
    "import matplotlib.pyplot as plt\n",
    "datadir='//data/examples/may_the_4_be_with_u/where_am_i/'"
   ]
  },
  {
   "cell_type": "markdown",
   "metadata": {},
   "source": [
    "### 將mid_term_mapping.txt的label讀入"
   ]
  },
  {
   "cell_type": "code",
   "execution_count": 2,
   "metadata": {},
   "outputs": [],
   "source": [
    "labelmap=pd.read_csv(datadir+'mid_term_mapping.txt',names=['place','index'])"
   ]
  },
  {
   "cell_type": "code",
   "execution_count": 3,
   "metadata": {},
   "outputs": [
    {
     "data": {
      "text/html": [
       "<div>\n",
       "<table border=\"1\" class=\"dataframe\">\n",
       "  <thead>\n",
       "    <tr style=\"text-align: right;\">\n",
       "      <th></th>\n",
       "      <th>place</th>\n",
       "      <th>index</th>\n",
       "    </tr>\n",
       "  </thead>\n",
       "  <tbody>\n",
       "    <tr>\n",
       "      <th>0</th>\n",
       "      <td>CALsuburb</td>\n",
       "      <td>9</td>\n",
       "    </tr>\n",
       "    <tr>\n",
       "      <th>1</th>\n",
       "      <td>PARoffice</td>\n",
       "      <td>7</td>\n",
       "    </tr>\n",
       "    <tr>\n",
       "      <th>2</th>\n",
       "      <td>bedroom</td>\n",
       "      <td>12</td>\n",
       "    </tr>\n",
       "    <tr>\n",
       "      <th>3</th>\n",
       "      <td>coast</td>\n",
       "      <td>10</td>\n",
       "    </tr>\n",
       "    <tr>\n",
       "      <th>4</th>\n",
       "      <td>forest</td>\n",
       "      <td>4</td>\n",
       "    </tr>\n",
       "    <tr>\n",
       "      <th>5</th>\n",
       "      <td>highway</td>\n",
       "      <td>14</td>\n",
       "    </tr>\n",
       "    <tr>\n",
       "      <th>6</th>\n",
       "      <td>industrial</td>\n",
       "      <td>2</td>\n",
       "    </tr>\n",
       "    <tr>\n",
       "      <th>7</th>\n",
       "      <td>insidecity</td>\n",
       "      <td>3</td>\n",
       "    </tr>\n",
       "    <tr>\n",
       "      <th>8</th>\n",
       "      <td>kitchen</td>\n",
       "      <td>0</td>\n",
       "    </tr>\n",
       "    <tr>\n",
       "      <th>9</th>\n",
       "      <td>livingroom</td>\n",
       "      <td>5</td>\n",
       "    </tr>\n",
       "    <tr>\n",
       "      <th>10</th>\n",
       "      <td>mountain</td>\n",
       "      <td>8</td>\n",
       "    </tr>\n",
       "    <tr>\n",
       "      <th>11</th>\n",
       "      <td>opencountry</td>\n",
       "      <td>6</td>\n",
       "    </tr>\n",
       "    <tr>\n",
       "      <th>12</th>\n",
       "      <td>store</td>\n",
       "      <td>11</td>\n",
       "    </tr>\n",
       "    <tr>\n",
       "      <th>13</th>\n",
       "      <td>street</td>\n",
       "      <td>1</td>\n",
       "    </tr>\n",
       "    <tr>\n",
       "      <th>14</th>\n",
       "      <td>tallbuilding</td>\n",
       "      <td>13</td>\n",
       "    </tr>\n",
       "  </tbody>\n",
       "</table>\n",
       "</div>"
      ],
      "text/plain": [
       "           place  index\n",
       "0      CALsuburb      9\n",
       "1      PARoffice      7\n",
       "2        bedroom     12\n",
       "3          coast     10\n",
       "4         forest      4\n",
       "5        highway     14\n",
       "6     industrial      2\n",
       "7     insidecity      3\n",
       "8        kitchen      0\n",
       "9     livingroom      5\n",
       "10      mountain      8\n",
       "11   opencountry      6\n",
       "12         store     11\n",
       "13        street      1\n",
       "14  tallbuilding     13"
      ]
     },
     "execution_count": 3,
     "metadata": {},
     "output_type": "execute_result"
    }
   ],
   "source": [
    "labelmap"
   ]
  },
  {
   "cell_type": "code",
   "execution_count": 4,
   "metadata": {},
   "outputs": [
    {
     "name": "stderr",
     "output_type": "stream",
     "text": [
      "/opt/conda/lib/python3.6/site-packages/ipykernel_launcher.py:1: FutureWarning: sort(columns=....) is deprecated, use sort_values(by=.....)\n",
      "  \"\"\"Entry point for launching an IPython kernel.\n"
     ]
    }
   ],
   "source": [
    "sortlabel=labelmap.sort('index')"
   ]
  },
  {
   "cell_type": "code",
   "execution_count": 5,
   "metadata": {},
   "outputs": [],
   "source": [
    "targetlist=sortlabel.place.as_matrix().tolist()"
   ]
  },
  {
   "cell_type": "code",
   "execution_count": 6,
   "metadata": {},
   "outputs": [
    {
     "data": {
      "text/plain": [
       "['kitchen',\n",
       " 'street',\n",
       " 'industrial',\n",
       " 'insidecity',\n",
       " 'forest',\n",
       " 'livingroom',\n",
       " 'opencountry',\n",
       " 'PARoffice',\n",
       " 'mountain',\n",
       " 'CALsuburb',\n",
       " 'coast',\n",
       " 'store',\n",
       " 'bedroom',\n",
       " 'tallbuilding',\n",
       " 'highway']"
      ]
     },
     "execution_count": 6,
     "metadata": {},
     "output_type": "execute_result"
    }
   ],
   "source": [
    "targetlist"
   ]
  },
  {
   "cell_type": "markdown",
   "metadata": {},
   "source": [
    "## ３.資料預處理<br>\n",
    "讀入照片檔"
   ]
  },
  {
   "cell_type": "code",
   "execution_count": 7,
   "metadata": {},
   "outputs": [],
   "source": [
    "x=[]\n",
    "y=[]\n",
    "sz=32\n",
    "\n",
    "for i,c in enumerate(targetlist):\n",
    "    ff=glob.glob((datadir+'train/'+c+'/*jpg'))\n",
    "    for f in ff:\n",
    "        img=cv2.imread(f,0)\n",
    "        img200=cv2.resize(img,(sz,sz))\n",
    "        iii=(np.reshape(img200,(sz,sz,1))).astype(float)\n",
    "        x.append(iii)\n",
    "        nn=np.zeros(15,dtype=float) #One Hot\n",
    "        nn[i]=1\n",
    "        y.append(nn)\n",
    "x_train=np.array(x)\n",
    "y_label=np.array(y)"
   ]
  },
  {
   "cell_type": "code",
   "execution_count": 8,
   "metadata": {},
   "outputs": [
    {
     "name": "stdout",
     "output_type": "stream",
     "text": [
      "[ 1.  0.  0.  0.  0.  0.  0.  0.  0.  0.  0.  0.  0.  0.  0.]\n"
     ]
    },
    {
     "data": {
      "text/plain": [
       "2985"
      ]
     },
     "execution_count": 8,
     "metadata": {},
     "output_type": "execute_result"
    }
   ],
   "source": [
    "print(y_label[1])\n",
    "len(y_label)"
   ]
  },
  {
   "cell_type": "code",
   "execution_count": 9,
   "metadata": {},
   "outputs": [
    {
     "data": {
      "text/plain": [
       "(2985, 32, 32, 1)"
      ]
     },
     "execution_count": 9,
     "metadata": {},
     "output_type": "execute_result"
    }
   ],
   "source": [
    "x_train.shape"
   ]
  },
  {
   "cell_type": "markdown",
   "metadata": {},
   "source": [
    "將x_train Normalization"
   ]
  },
  {
   "cell_type": "code",
   "execution_count": 10,
   "metadata": {},
   "outputs": [
    {
     "name": "stdout",
     "output_type": "stream",
     "text": [
      "[ 0.5372549]\n"
     ]
    },
    {
     "data": {
      "text/plain": [
       "2985"
      ]
     },
     "execution_count": 10,
     "metadata": {},
     "output_type": "execute_result"
    }
   ],
   "source": [
    "x_train=x_train / 255.0\n",
    "print(x_train[1][1][1])\n",
    "len(x_train)"
   ]
  },
  {
   "cell_type": "markdown",
   "metadata": {},
   "source": [
    "將資料做測試集、驗證集的分割"
   ]
  },
  {
   "cell_type": "code",
   "execution_count": 11,
   "metadata": {},
   "outputs": [
    {
     "name": "stdout",
     "output_type": "stream",
     "text": [
      "training set data dimension\n",
      "(2686, 32, 32, 1)\n",
      "(2686, 15)\n",
      "-----------\n",
      "training set: 2686\n",
      "validation set: 299\n"
     ]
    }
   ],
   "source": [
    "random_seed  = 2 #用random_seed來做作隨機分割\n",
    "x_train, x_valid, y_label, y_valid = train_test_split(x_train, \n",
    "                                                      y_label, \n",
    "                                                      test_size = 0.1, random_state=random_seed)\n",
    "\n",
    "print(\"training set data dimension\")\n",
    "print(x_train.shape)\n",
    "print(y_label.shape)\n",
    "print(\"-----------\")\n",
    "print(\"training set: %i\" % len(x_train))\n",
    "print(\"validation set: %i\" % len(x_valid))"
   ]
  },
  {
   "cell_type": "code",
   "execution_count": 12,
   "metadata": {},
   "outputs": [
    {
     "name": "stdout",
     "output_type": "stream",
     "text": [
      "train data: images: (2686, 32, 32, 1)  labels: (2686, 15)\n",
      "valid data: images: (299, 32, 32, 1)  labels: (299, 15)\n"
     ]
    }
   ],
   "source": [
    "print(\"train data:\",'images:',x_train.shape,\n",
    "      \" labels:\",y_label.shape)\n",
    "print(\"valid data:\",'images:',x_valid.shape ,\n",
    "      \" labels:\",y_valid.shape)"
   ]
  },
  {
   "cell_type": "markdown",
   "metadata": {},
   "source": [
    "## ４.建立模型\n",
    "這次我利用keras卷積神經網路(CNN)來當我的模型。<br><br>\n",
    "![CNN](http://html.rhhz.net/CHXB/html/PIC/chxb-45-9-1073-4.jpg)"
   ]
  },
  {
   "cell_type": "code",
   "execution_count": 13,
   "metadata": {},
   "outputs": [
    {
     "name": "stderr",
     "output_type": "stream",
     "text": [
      "Using TensorFlow backend.\n"
     ]
    }
   ],
   "source": [
    "from keras.models import Sequential\n",
    "from keras.layers import Dense, Dropout, Activation, Flatten\n",
    "from keras.layers import Conv2D, MaxPooling2D, ZeroPadding2D"
   ]
  },
  {
   "cell_type": "markdown",
   "metadata": {},
   "source": [
    "建立keras的Sequential模型"
   ]
  },
  {
   "cell_type": "code",
   "execution_count": 14,
   "metadata": {},
   "outputs": [],
   "source": [
    "model = Sequential()"
   ]
  },
  {
   "cell_type": "markdown",
   "metadata": {},
   "source": [
    "建立卷積層1與池化層1"
   ]
  },
  {
   "cell_type": "code",
   "execution_count": 15,
   "metadata": {},
   "outputs": [],
   "source": [
    "model.add(Conv2D(filters=32,kernel_size=(3,3),\n",
    "                 input_shape=(sz, sz,1),\n",
    "                 activation='relu',\n",
    "                 padding='same'))\n",
    "model.add(Dropout(rate=0.3)) #Dropout避免Overfitting\n",
    "model.add(Conv2D(filters=32,kernel_size=(3,3), #後續多增加一次Conv2D層\n",
    "                 activation='relu',\n",
    "                 padding='same'))\n",
    "model.add(MaxPooling2D(pool_size=(2,2))) #池化層"
   ]
  },
  {
   "cell_type": "markdown",
   "metadata": {},
   "source": [
    "建立卷積層2與池化層2"
   ]
  },
  {
   "cell_type": "code",
   "execution_count": 16,
   "metadata": {},
   "outputs": [],
   "source": [
    "model.add(Conv2D(filters=64,kernel_size=(3,3),\n",
    "                 activation='relu',\n",
    "                 padding='same'))\n",
    "model.add(Dropout(rate=0.3))\n",
    "model.add(Conv2D(filters=64,kernel_size=(3,3),\n",
    "                 activation='relu',\n",
    "                 padding='same'))\n",
    "model.add(MaxPooling2D(pool_size=(2,2)))"
   ]
  },
  {
   "cell_type": "markdown",
   "metadata": {},
   "source": [
    "建立卷積層3與池化層3"
   ]
  },
  {
   "cell_type": "code",
   "execution_count": 17,
   "metadata": {},
   "outputs": [],
   "source": [
    "model.add(Conv2D(filters=128, kernel_size=(3, 3),\n",
    "                activation='relu', padding='same'))\n",
    "model.add(Dropout(rate=0.3))\n",
    "model.add(Conv2D(filters=128, kernel_size=(3, 3),\n",
    "                activation='relu', padding='same'))\n",
    "model.add(MaxPooling2D(pool_size=(2,2)))"
   ]
  },
  {
   "cell_type": "markdown",
   "metadata": {},
   "source": [
    "建立神經網路(平坦層、隱藏層、輸出層)"
   ]
  },
  {
   "cell_type": "code",
   "execution_count": 18,
   "metadata": {},
   "outputs": [],
   "source": [
    "model.add(Flatten())\n",
    "model.add(Dropout(rate=0.3))\n",
    "model.add(Dense(1024, activation='relu'))\n",
    "model.add(Dropout(rate=0.3))\n",
    "model.add(Dense(15, activation='softmax'))"
   ]
  },
  {
   "cell_type": "code",
   "execution_count": 19,
   "metadata": {},
   "outputs": [
    {
     "name": "stdout",
     "output_type": "stream",
     "text": [
      "_________________________________________________________________\n",
      "Layer (type)                 Output Shape              Param #   \n",
      "=================================================================\n",
      "conv2d_1 (Conv2D)            (None, 32, 32, 32)        320       \n",
      "_________________________________________________________________\n",
      "dropout_1 (Dropout)          (None, 32, 32, 32)        0         \n",
      "_________________________________________________________________\n",
      "conv2d_2 (Conv2D)            (None, 32, 32, 32)        9248      \n",
      "_________________________________________________________________\n",
      "max_pooling2d_1 (MaxPooling2 (None, 16, 16, 32)        0         \n",
      "_________________________________________________________________\n",
      "conv2d_3 (Conv2D)            (None, 16, 16, 64)        18496     \n",
      "_________________________________________________________________\n",
      "dropout_2 (Dropout)          (None, 16, 16, 64)        0         \n",
      "_________________________________________________________________\n",
      "conv2d_4 (Conv2D)            (None, 16, 16, 64)        36928     \n",
      "_________________________________________________________________\n",
      "max_pooling2d_2 (MaxPooling2 (None, 8, 8, 64)          0         \n",
      "_________________________________________________________________\n",
      "conv2d_5 (Conv2D)            (None, 8, 8, 128)         73856     \n",
      "_________________________________________________________________\n",
      "dropout_3 (Dropout)          (None, 8, 8, 128)         0         \n",
      "_________________________________________________________________\n",
      "conv2d_6 (Conv2D)            (None, 8, 8, 128)         147584    \n",
      "_________________________________________________________________\n",
      "max_pooling2d_3 (MaxPooling2 (None, 4, 4, 128)         0         \n",
      "_________________________________________________________________\n",
      "flatten_1 (Flatten)          (None, 2048)              0         \n",
      "_________________________________________________________________\n",
      "dropout_4 (Dropout)          (None, 2048)              0         \n",
      "_________________________________________________________________\n",
      "dense_1 (Dense)              (None, 1024)              2098176   \n",
      "_________________________________________________________________\n",
      "dropout_5 (Dropout)          (None, 1024)              0         \n",
      "_________________________________________________________________\n",
      "dense_2 (Dense)              (None, 15)                15375     \n",
      "=================================================================\n",
      "Total params: 2,399,983\n",
      "Trainable params: 2,399,983\n",
      "Non-trainable params: 0\n",
      "_________________________________________________________________\n",
      "None\n"
     ]
    }
   ],
   "source": [
    "print(model.summary())"
   ]
  },
  {
   "cell_type": "markdown",
   "metadata": {},
   "source": [
    "# ５.進行訓練"
   ]
  },
  {
   "cell_type": "code",
   "execution_count": 20,
   "metadata": {},
   "outputs": [],
   "source": [
    "model.compile(loss='categorical_crossentropy',\n",
    "              optimizer='adam', metrics=['accuracy'])"
   ]
  },
  {
   "cell_type": "code",
   "execution_count": 21,
   "metadata": {},
   "outputs": [
    {
     "name": "stdout",
     "output_type": "stream",
     "text": [
      "Train on 2148 samples, validate on 538 samples\n",
      "Epoch 1/100\n",
      "2148/2148 [==============================] - 3s 2ms/step - loss: 2.6807 - acc: 0.0992 - val_loss: 2.6658 - val_acc: 0.0985\n",
      "Epoch 2/100\n",
      "2148/2148 [==============================] - 1s 404us/step - loss: 2.6284 - acc: 0.1164 - val_loss: 2.5647 - val_acc: 0.1729\n",
      "Epoch 3/100\n",
      "2148/2148 [==============================] - 1s 450us/step - loss: 2.4176 - acc: 0.2123 - val_loss: 2.4681 - val_acc: 0.1896\n",
      "Epoch 4/100\n",
      "2148/2148 [==============================] - 1s 430us/step - loss: 2.0911 - acc: 0.3031 - val_loss: 2.0327 - val_acc: 0.3327\n",
      "Epoch 5/100\n",
      "2148/2148 [==============================] - 1s 417us/step - loss: 1.8842 - acc: 0.3524 - val_loss: 2.0208 - val_acc: 0.3011\n",
      "Epoch 6/100\n",
      "2148/2148 [==============================] - 1s 428us/step - loss: 1.7209 - acc: 0.4171 - val_loss: 1.7965 - val_acc: 0.3662\n",
      "Epoch 7/100\n",
      "2148/2148 [==============================] - 1s 434us/step - loss: 1.6077 - acc: 0.4413 - val_loss: 1.9380 - val_acc: 0.4052\n",
      "Epoch 8/100\n",
      "2148/2148 [==============================] - 1s 401us/step - loss: 1.4616 - acc: 0.5037 - val_loss: 1.5831 - val_acc: 0.4981\n",
      "Epoch 9/100\n",
      "2148/2148 [==============================] - 1s 436us/step - loss: 1.3442 - acc: 0.5428 - val_loss: 1.5841 - val_acc: 0.4981\n",
      "Epoch 10/100\n",
      "2148/2148 [==============================] - 1s 454us/step - loss: 1.2334 - acc: 0.5726 - val_loss: 1.5113 - val_acc: 0.5037\n",
      "Epoch 11/100\n",
      "2148/2148 [==============================] - 1s 439us/step - loss: 1.1361 - acc: 0.6155 - val_loss: 1.3488 - val_acc: 0.5781\n",
      "Epoch 12/100\n",
      "2148/2148 [==============================] - 1s 451us/step - loss: 0.9990 - acc: 0.6541 - val_loss: 1.4161 - val_acc: 0.5223\n",
      "Epoch 13/100\n",
      "2148/2148 [==============================] - 1s 438us/step - loss: 0.9165 - acc: 0.6867 - val_loss: 1.3472 - val_acc: 0.5595\n",
      "Epoch 14/100\n",
      "2148/2148 [==============================] - 1s 422us/step - loss: 0.8922 - acc: 0.6960 - val_loss: 1.6352 - val_acc: 0.5223\n",
      "Epoch 15/100\n",
      "2148/2148 [==============================] - 1s 403us/step - loss: 0.8206 - acc: 0.7025 - val_loss: 1.3391 - val_acc: 0.5836\n",
      "Epoch 16/100\n",
      "2148/2148 [==============================] - 1s 452us/step - loss: 0.7788 - acc: 0.7370 - val_loss: 1.3383 - val_acc: 0.6227\n",
      "Epoch 17/100\n",
      "2148/2148 [==============================] - 1s 423us/step - loss: 0.6622 - acc: 0.7668 - val_loss: 1.4735 - val_acc: 0.5502\n",
      "Epoch 18/100\n",
      "2148/2148 [==============================] - 1s 428us/step - loss: 0.5651 - acc: 0.7989 - val_loss: 1.6242 - val_acc: 0.5669\n",
      "Epoch 19/100\n",
      "2148/2148 [==============================] - 1s 412us/step - loss: 0.4925 - acc: 0.8236 - val_loss: 1.5932 - val_acc: 0.5781\n",
      "Epoch 20/100\n",
      "2148/2148 [==============================] - 1s 450us/step - loss: 0.4963 - acc: 0.8301 - val_loss: 1.4938 - val_acc: 0.5855\n",
      "Epoch 21/100\n",
      "2148/2148 [==============================] - 1s 433us/step - loss: 0.4991 - acc: 0.8296 - val_loss: 1.5886 - val_acc: 0.5818\n",
      "Epoch 22/100\n",
      "2148/2148 [==============================] - 1s 418us/step - loss: 0.3551 - acc: 0.8771 - val_loss: 1.7418 - val_acc: 0.5651\n",
      "Epoch 23/100\n",
      "2148/2148 [==============================] - 1s 421us/step - loss: 0.3351 - acc: 0.8892 - val_loss: 1.6373 - val_acc: 0.6283\n",
      "Epoch 24/100\n",
      "2148/2148 [==============================] - 1s 409us/step - loss: 0.2797 - acc: 0.9036 - val_loss: 1.8575 - val_acc: 0.5874\n",
      "Epoch 25/100\n",
      "2148/2148 [==============================] - 1s 388us/step - loss: 0.2862 - acc: 0.9050 - val_loss: 1.8388 - val_acc: 0.5874\n",
      "Epoch 26/100\n",
      "2148/2148 [==============================] - 1s 395us/step - loss: 0.3069 - acc: 0.8920 - val_loss: 1.8057 - val_acc: 0.5929\n",
      "Epoch 27/100\n",
      "2148/2148 [==============================] - 1s 406us/step - loss: 0.2934 - acc: 0.9032 - val_loss: 1.9394 - val_acc: 0.6208\n",
      "Epoch 28/100\n",
      "2148/2148 [==============================] - 1s 431us/step - loss: 0.1725 - acc: 0.9455 - val_loss: 2.0536 - val_acc: 0.5725\n",
      "Epoch 29/100\n",
      "2148/2148 [==============================] - 1s 411us/step - loss: 0.2891 - acc: 0.8980 - val_loss: 1.7312 - val_acc: 0.6022\n",
      "Epoch 30/100\n",
      "2148/2148 [==============================] - 1s 424us/step - loss: 0.2271 - acc: 0.9171 - val_loss: 1.8814 - val_acc: 0.6022\n",
      "Epoch 31/100\n",
      "2148/2148 [==============================] - 1s 411us/step - loss: 0.1831 - acc: 0.9344 - val_loss: 2.1056 - val_acc: 0.5948\n",
      "Epoch 32/100\n",
      "2148/2148 [==============================] - 1s 426us/step - loss: 0.1734 - acc: 0.9446 - val_loss: 1.9011 - val_acc: 0.5725\n",
      "Epoch 33/100\n",
      "2148/2148 [==============================] - 1s 419us/step - loss: 0.1829 - acc: 0.9432 - val_loss: 2.1052 - val_acc: 0.5836\n",
      "Epoch 34/100\n",
      "2148/2148 [==============================] - 1s 432us/step - loss: 0.1732 - acc: 0.9395 - val_loss: 2.0462 - val_acc: 0.5929\n",
      "Epoch 35/100\n",
      "2148/2148 [==============================] - 1s 447us/step - loss: 0.1305 - acc: 0.9502 - val_loss: 2.3826 - val_acc: 0.5725\n",
      "Epoch 36/100\n",
      "2148/2148 [==============================] - 1s 438us/step - loss: 0.2266 - acc: 0.9232 - val_loss: 1.9966 - val_acc: 0.6115\n",
      "Epoch 37/100\n",
      "2148/2148 [==============================] - 1s 434us/step - loss: 0.0990 - acc: 0.9693 - val_loss: 2.4777 - val_acc: 0.5967\n",
      "Epoch 38/100\n",
      "2148/2148 [==============================] - 1s 446us/step - loss: 0.1276 - acc: 0.9553 - val_loss: 2.1919 - val_acc: 0.6059\n",
      "Epoch 39/100\n",
      "2148/2148 [==============================] - 1s 432us/step - loss: 0.1555 - acc: 0.9469 - val_loss: 2.1504 - val_acc: 0.5836\n",
      "Epoch 40/100\n",
      "2148/2148 [==============================] - 1s 432us/step - loss: 0.1322 - acc: 0.9572 - val_loss: 2.1470 - val_acc: 0.6059\n",
      "Epoch 41/100\n",
      "2148/2148 [==============================] - 1s 413us/step - loss: 0.1098 - acc: 0.9604 - val_loss: 2.2183 - val_acc: 0.5799\n",
      "Epoch 42/100\n",
      "2148/2148 [==============================] - 1s 419us/step - loss: 0.1266 - acc: 0.9590 - val_loss: 2.2068 - val_acc: 0.5892\n",
      "Epoch 43/100\n",
      "2148/2148 [==============================] - 1s 393us/step - loss: 0.1091 - acc: 0.9623 - val_loss: 2.2560 - val_acc: 0.6022\n",
      "Epoch 44/100\n",
      "2148/2148 [==============================] - 1s 427us/step - loss: 0.0950 - acc: 0.9646 - val_loss: 2.2379 - val_acc: 0.6097\n",
      "Epoch 45/100\n",
      "2148/2148 [==============================] - 1s 417us/step - loss: 0.1346 - acc: 0.9534 - val_loss: 2.5757 - val_acc: 0.5613\n",
      "Epoch 46/100\n",
      "2148/2148 [==============================] - 1s 408us/step - loss: 0.1227 - acc: 0.9618 - val_loss: 2.3710 - val_acc: 0.5725\n",
      "Epoch 47/100\n",
      "2148/2148 [==============================] - 1s 425us/step - loss: 0.1204 - acc: 0.9614 - val_loss: 2.4403 - val_acc: 0.5874\n",
      "Epoch 48/100\n",
      "2148/2148 [==============================] - 1s 442us/step - loss: 0.1179 - acc: 0.9604 - val_loss: 2.3678 - val_acc: 0.5799\n",
      "Epoch 49/100\n",
      "2148/2148 [==============================] - 1s 454us/step - loss: 0.0873 - acc: 0.9702 - val_loss: 2.3861 - val_acc: 0.5892\n",
      "Epoch 50/100\n",
      "2148/2148 [==============================] - 1s 408us/step - loss: 0.1060 - acc: 0.9614 - val_loss: 2.5116 - val_acc: 0.5688\n",
      "Epoch 51/100\n",
      "2148/2148 [==============================] - 1s 440us/step - loss: 0.1065 - acc: 0.9688 - val_loss: 2.5219 - val_acc: 0.5948\n",
      "Epoch 52/100\n",
      "2148/2148 [==============================] - 1s 417us/step - loss: 0.0771 - acc: 0.9749 - val_loss: 2.4553 - val_acc: 0.5762\n",
      "Epoch 53/100\n",
      "2148/2148 [==============================] - 1s 412us/step - loss: 0.0950 - acc: 0.9665 - val_loss: 2.3458 - val_acc: 0.5818\n",
      "Epoch 54/100\n",
      "2148/2148 [==============================] - 1s 425us/step - loss: 0.0925 - acc: 0.9744 - val_loss: 2.4150 - val_acc: 0.5874\n",
      "Epoch 55/100\n",
      "2148/2148 [==============================] - 1s 419us/step - loss: 0.0620 - acc: 0.9786 - val_loss: 2.5311 - val_acc: 0.5799\n",
      "Epoch 56/100\n",
      "2148/2148 [==============================] - 1s 406us/step - loss: 0.1558 - acc: 0.9567 - val_loss: 2.3279 - val_acc: 0.5818\n",
      "Epoch 57/100\n",
      "2148/2148 [==============================] - 1s 394us/step - loss: 0.1524 - acc: 0.9520 - val_loss: 2.5185 - val_acc: 0.5613\n",
      "Epoch 58/100\n",
      "2148/2148 [==============================] - 1s 417us/step - loss: 0.0846 - acc: 0.9669 - val_loss: 2.3296 - val_acc: 0.5929\n",
      "Epoch 59/100\n",
      "2148/2148 [==============================] - 1s 449us/step - loss: 0.0583 - acc: 0.9804 - val_loss: 2.6787 - val_acc: 0.5688\n",
      "Epoch 60/100\n",
      "2148/2148 [==============================] - 1s 407us/step - loss: 0.0574 - acc: 0.9800 - val_loss: 2.6263 - val_acc: 0.5836\n",
      "Epoch 61/100\n",
      "2148/2148 [==============================] - 1s 430us/step - loss: 0.0798 - acc: 0.9781 - val_loss: 2.5917 - val_acc: 0.6041\n",
      "Epoch 62/100\n",
      "2148/2148 [==============================] - 1s 401us/step - loss: 0.0729 - acc: 0.9702 - val_loss: 2.5056 - val_acc: 0.6059\n",
      "Epoch 63/100\n",
      "2148/2148 [==============================] - 1s 419us/step - loss: 0.0491 - acc: 0.9818 - val_loss: 3.3849 - val_acc: 0.5056\n",
      "Epoch 64/100\n",
      "2148/2148 [==============================] - 1s 426us/step - loss: 0.1097 - acc: 0.9669 - val_loss: 2.3769 - val_acc: 0.5855\n",
      "Epoch 65/100\n",
      "2148/2148 [==============================] - 1s 421us/step - loss: 0.0647 - acc: 0.9818 - val_loss: 2.5526 - val_acc: 0.5874\n",
      "Epoch 66/100\n",
      "2148/2148 [==============================] - 1s 399us/step - loss: 0.0694 - acc: 0.9786 - val_loss: 2.3816 - val_acc: 0.6097\n",
      "Epoch 67/100\n",
      "2148/2148 [==============================] - 1s 424us/step - loss: 0.0684 - acc: 0.9772 - val_loss: 2.6827 - val_acc: 0.5836\n",
      "Epoch 68/100\n",
      "2148/2148 [==============================] - 1s 406us/step - loss: 0.0766 - acc: 0.9753 - val_loss: 2.6468 - val_acc: 0.5874\n",
      "Epoch 69/100\n",
      "2148/2148 [==============================] - 1s 422us/step - loss: 0.0672 - acc: 0.9800 - val_loss: 2.7631 - val_acc: 0.5948\n",
      "Epoch 70/100\n",
      "2148/2148 [==============================] - 1s 424us/step - loss: 0.0689 - acc: 0.9786 - val_loss: 2.7113 - val_acc: 0.5781\n",
      "Epoch 71/100\n",
      "2148/2148 [==============================] - 1s 402us/step - loss: 0.0541 - acc: 0.9842 - val_loss: 2.5306 - val_acc: 0.5836\n",
      "Epoch 72/100\n",
      "2148/2148 [==============================] - 1s 431us/step - loss: 0.0638 - acc: 0.9800 - val_loss: 2.8627 - val_acc: 0.6022\n",
      "Epoch 73/100\n",
      "2148/2148 [==============================] - 1s 422us/step - loss: 0.0811 - acc: 0.9749 - val_loss: 2.7757 - val_acc: 0.5688\n",
      "Epoch 74/100\n",
      "2148/2148 [==============================] - 1s 404us/step - loss: 0.0703 - acc: 0.9800 - val_loss: 2.7594 - val_acc: 0.5874\n",
      "Epoch 75/100\n",
      "2148/2148 [==============================] - 1s 443us/step - loss: 0.0615 - acc: 0.9791 - val_loss: 2.7134 - val_acc: 0.5706\n",
      "Epoch 76/100\n",
      "2148/2148 [==============================] - 1s 411us/step - loss: 0.1098 - acc: 0.9679 - val_loss: 2.7309 - val_acc: 0.5483\n",
      "Epoch 77/100\n",
      "2148/2148 [==============================] - 1s 400us/step - loss: 0.1233 - acc: 0.9609 - val_loss: 2.7724 - val_acc: 0.5632\n",
      "Epoch 78/100\n",
      "2148/2148 [==============================] - 1s 431us/step - loss: 0.0679 - acc: 0.9786 - val_loss: 2.7162 - val_acc: 0.5948\n",
      "Epoch 79/100\n",
      "2148/2148 [==============================] - 1s 420us/step - loss: 0.0831 - acc: 0.9758 - val_loss: 2.8742 - val_acc: 0.5781\n",
      "Epoch 80/100\n",
      "2148/2148 [==============================] - 1s 431us/step - loss: 0.0647 - acc: 0.9804 - val_loss: 2.8193 - val_acc: 0.5892\n",
      "Epoch 81/100\n",
      "2148/2148 [==============================] - 1s 413us/step - loss: 0.0455 - acc: 0.9856 - val_loss: 3.1989 - val_acc: 0.5483\n",
      "Epoch 82/100\n",
      "2148/2148 [==============================] - 1s 414us/step - loss: 0.0900 - acc: 0.9749 - val_loss: 2.9198 - val_acc: 0.5632\n",
      "Epoch 83/100\n",
      "2148/2148 [==============================] - 1s 407us/step - loss: 0.1233 - acc: 0.9646 - val_loss: 2.6984 - val_acc: 0.5743\n",
      "Epoch 84/100\n",
      "2148/2148 [==============================] - 1s 416us/step - loss: 0.1165 - acc: 0.9707 - val_loss: 2.7139 - val_acc: 0.5836\n",
      "Epoch 85/100\n",
      "2148/2148 [==============================] - 1s 409us/step - loss: 0.1494 - acc: 0.9507 - val_loss: 2.5687 - val_acc: 0.5706\n",
      "Epoch 86/100\n",
      "2148/2148 [==============================] - 1s 398us/step - loss: 0.0862 - acc: 0.9753 - val_loss: 2.6165 - val_acc: 0.5892\n",
      "Epoch 87/100\n",
      "2148/2148 [==============================] - 1s 399us/step - loss: 0.1331 - acc: 0.9632 - val_loss: 2.4254 - val_acc: 0.5743\n",
      "Epoch 88/100\n",
      "2148/2148 [==============================] - 1s 394us/step - loss: 0.0528 - acc: 0.9846 - val_loss: 2.7631 - val_acc: 0.5688\n",
      "Epoch 89/100\n",
      "2148/2148 [==============================] - 1s 385us/step - loss: 0.0586 - acc: 0.9804 - val_loss: 2.5609 - val_acc: 0.5874\n",
      "Epoch 90/100\n",
      "2148/2148 [==============================] - 1s 404us/step - loss: 0.0863 - acc: 0.9767 - val_loss: 2.5857 - val_acc: 0.5874\n",
      "Epoch 91/100\n",
      "2148/2148 [==============================] - 1s 376us/step - loss: 0.0609 - acc: 0.9786 - val_loss: 2.8136 - val_acc: 0.5781\n",
      "Epoch 92/100\n",
      "2148/2148 [==============================] - 1s 413us/step - loss: 0.0303 - acc: 0.9898 - val_loss: 2.9580 - val_acc: 0.5781\n",
      "Epoch 93/100\n",
      "2148/2148 [==============================] - 1s 404us/step - loss: 0.0483 - acc: 0.9851 - val_loss: 2.8726 - val_acc: 0.5743\n",
      "Epoch 94/100\n",
      "2148/2148 [==============================] - 1s 400us/step - loss: 0.0489 - acc: 0.9860 - val_loss: 2.9399 - val_acc: 0.5985\n",
      "Epoch 95/100\n",
      "2148/2148 [==============================] - 1s 415us/step - loss: 0.0492 - acc: 0.9842 - val_loss: 2.9368 - val_acc: 0.5818\n",
      "Epoch 96/100\n",
      "2148/2148 [==============================] - 1s 402us/step - loss: 0.0465 - acc: 0.9846 - val_loss: 2.7794 - val_acc: 0.5855\n",
      "Epoch 97/100\n",
      "2148/2148 [==============================] - 1s 414us/step - loss: 0.0527 - acc: 0.9842 - val_loss: 2.9970 - val_acc: 0.5706\n",
      "Epoch 98/100\n",
      "2148/2148 [==============================] - 1s 418us/step - loss: 0.0743 - acc: 0.9781 - val_loss: 2.8585 - val_acc: 0.5651\n",
      "Epoch 99/100\n",
      "2148/2148 [==============================] - 1s 422us/step - loss: 0.0500 - acc: 0.9846 - val_loss: 2.8492 - val_acc: 0.5725\n",
      "Epoch 100/100\n",
      "2148/2148 [==============================] - 1s 398us/step - loss: 0.0701 - acc: 0.9823 - val_loss: 2.8394 - val_acc: 0.5725\n"
     ]
    }
   ],
   "source": [
    "train_history=model.fit(x_train, y_label,\n",
    "                        validation_split=0.2,\n",
    "                        epochs=100, batch_size=32, verbose=1) #進行一百次訓練，因為batch_size設定32，所以不用花到太多時間"
   ]
  },
  {
   "cell_type": "code",
   "execution_count": 22,
   "metadata": {},
   "outputs": [],
   "source": [
    "def show_train_history(train_history,train,validation):\n",
    "    plt.plot(train_history.history[train])\n",
    "    plt.plot(train_history.history[validation])\n",
    "    plt.title('Train History')\n",
    "    plt.ylabel(train)\n",
    "    plt.xlabel('Epoch')\n",
    "    plt.legend(['train', 'validation'], loc='upper left')\n",
    "    plt.show()"
   ]
  },
  {
   "cell_type": "code",
   "execution_count": 23,
   "metadata": {},
   "outputs": [
    {
     "data": {
      "image/png": "[encoded data removed]",
      "text/plain": [
       "<matplotlib.figure.Figure at 0x7f5333df5ac8>"
      ]
     },
     "metadata": {},
     "output_type": "display_data"
    }
   ],
   "source": [
    "show_train_history(train_history,'acc','val_acc')"
   ]
  },
  {
   "cell_type": "code",
   "execution_count": 24,
   "metadata": {},
   "outputs": [
    {
     "data": {
      "image/png": "[encoded data removed]",
      "text/plain": [
       "<matplotlib.figure.Figure at 0x7f533008bc88>"
      ]
     },
     "metadata": {},
     "output_type": "display_data"
    }
   ],
   "source": [
    "show_train_history(train_history,'loss','val_loss')"
   ]
  },
  {
   "cell_type": "markdown",
   "metadata": {},
   "source": [
    "評估模型準確率"
   ]
  },
  {
   "cell_type": "code",
   "execution_count": 25,
   "metadata": {},
   "outputs": [
    {
     "data": {
      "text/plain": [
       "0.9110201042442293"
      ]
     },
     "execution_count": 25,
     "metadata": {},
     "output_type": "execute_result"
    }
   ],
   "source": [
    "scores = model.evaluate(x_train,\n",
    "                        y_label, verbose=0)\n",
    "scores[1]"
   ]
  },
  {
   "cell_type": "markdown",
   "metadata": {},
   "source": [
    "匯入測試資料"
   ]
  },
  {
   "cell_type": "code",
   "execution_count": 26,
   "metadata": {},
   "outputs": [],
   "source": [
    "testdata=pd.read_csv(datadir+'img-submission.csv')"
   ]
  },
  {
   "cell_type": "code",
   "execution_count": 27,
   "metadata": {},
   "outputs": [
    {
     "data": {
      "text/html": [
       "<div>\n",
       "<table border=\"1\" class=\"dataframe\">\n",
       "  <thead>\n",
       "    <tr style=\"text-align: right;\">\n",
       "      <th></th>\n",
       "      <th>id</th>\n",
       "      <th>class</th>\n",
       "    </tr>\n",
       "  </thead>\n",
       "  <tbody>\n",
       "    <tr>\n",
       "      <th>0</th>\n",
       "      <td>c117693e1cf24a5232090d1548cb11d4e5ea0df65680c4...</td>\n",
       "      <td>1</td>\n",
       "    </tr>\n",
       "    <tr>\n",
       "      <th>1</th>\n",
       "      <td>96baacc2e97886a998807ce197574821a6dc83c227c746...</td>\n",
       "      <td>1</td>\n",
       "    </tr>\n",
       "    <tr>\n",
       "      <th>2</th>\n",
       "      <td>f9bd26db23eb9b544ca78be79b11b4d1259e802885861d...</td>\n",
       "      <td>1</td>\n",
       "    </tr>\n",
       "    <tr>\n",
       "      <th>3</th>\n",
       "      <td>b42bcd8e6645fcc2ac40ee44b7dc8d74a77081d0aea7a1...</td>\n",
       "      <td>1</td>\n",
       "    </tr>\n",
       "    <tr>\n",
       "      <th>4</th>\n",
       "      <td>5bc53cef9168882f0ff67a81b3e7269f62b7fd5343d06d...</td>\n",
       "      <td>1</td>\n",
       "    </tr>\n",
       "    <tr>\n",
       "      <th>5</th>\n",
       "      <td>f80823d6bff6c0beba6d55a3157d7a4fa2de4f966351e0...</td>\n",
       "      <td>1</td>\n",
       "    </tr>\n",
       "    <tr>\n",
       "      <th>6</th>\n",
       "      <td>3a12151639cf9f8e2af9ea36c2ce6bb15dd8730ea6dc90...</td>\n",
       "      <td>1</td>\n",
       "    </tr>\n",
       "    <tr>\n",
       "      <th>7</th>\n",
       "      <td>a5e0980425df5b98864a9580e081a7209e1b6810ed515a...</td>\n",
       "      <td>1</td>\n",
       "    </tr>\n",
       "    <tr>\n",
       "      <th>8</th>\n",
       "      <td>d4ea833073c4391387bebaef3c51c22861c1ff108cbb3c...</td>\n",
       "      <td>1</td>\n",
       "    </tr>\n",
       "    <tr>\n",
       "      <th>9</th>\n",
       "      <td>013c78d920be5390dbc66ca238ae3f49a2b0cf13e36013...</td>\n",
       "      <td>1</td>\n",
       "    </tr>\n",
       "    <tr>\n",
       "      <th>10</th>\n",
       "      <td>2390366350839d8f2e52faa4b491734171cf88bf948a8f...</td>\n",
       "      <td>1</td>\n",
       "    </tr>\n",
       "    <tr>\n",
       "      <th>11</th>\n",
       "      <td>e1dbee71db867f7a9b86861654e4335f058b5f3040ee62...</td>\n",
       "      <td>1</td>\n",
       "    </tr>\n",
       "    <tr>\n",
       "      <th>12</th>\n",
       "      <td>235793ff4b3fd913564da420c0ab3e06b004d1b3852b76...</td>\n",
       "      <td>1</td>\n",
       "    </tr>\n",
       "    <tr>\n",
       "      <th>13</th>\n",
       "      <td>ad8c7c4f51d832e6ec7de77af21655a3ca9564c3d741b1...</td>\n",
       "      <td>1</td>\n",
       "    </tr>\n",
       "    <tr>\n",
       "      <th>14</th>\n",
       "      <td>57b35ef8a1e099832fbb23db63286ed616ad861de14ff1...</td>\n",
       "      <td>1</td>\n",
       "    </tr>\n",
       "    <tr>\n",
       "      <th>15</th>\n",
       "      <td>f0e671331422dd4599d8ec9707dc10bc1ba1bf0fddb566...</td>\n",
       "      <td>1</td>\n",
       "    </tr>\n",
       "    <tr>\n",
       "      <th>16</th>\n",
       "      <td>73d415d8a4230e2df02a50a9c792c35f033c3f1b8f445b...</td>\n",
       "      <td>1</td>\n",
       "    </tr>\n",
       "    <tr>\n",
       "      <th>17</th>\n",
       "      <td>18f6b8c45d4d9b9fcd101db03311f7726f2e92d149885f...</td>\n",
       "      <td>1</td>\n",
       "    </tr>\n",
       "    <tr>\n",
       "      <th>18</th>\n",
       "      <td>091e72ed1eb8b74b8258f74455f8950eeaaca1bd2166d9...</td>\n",
       "      <td>1</td>\n",
       "    </tr>\n",
       "    <tr>\n",
       "      <th>19</th>\n",
       "      <td>2f1e03ced50e953e502a5cc26691a8fdf60d312e7b2861...</td>\n",
       "      <td>1</td>\n",
       "    </tr>\n",
       "    <tr>\n",
       "      <th>20</th>\n",
       "      <td>dc82ec510849dd62e838548650543b47764b70132aac93...</td>\n",
       "      <td>1</td>\n",
       "    </tr>\n",
       "    <tr>\n",
       "      <th>21</th>\n",
       "      <td>f2b91360c7909872c60c8fa8736306d301effc39b3e9de...</td>\n",
       "      <td>1</td>\n",
       "    </tr>\n",
       "    <tr>\n",
       "      <th>22</th>\n",
       "      <td>d39605133990e9ae156cdbb17355407d83152369890fc6...</td>\n",
       "      <td>1</td>\n",
       "    </tr>\n",
       "    <tr>\n",
       "      <th>23</th>\n",
       "      <td>524c16631f21ddb1337cc40a7d81ed9f353a8b3923d71b...</td>\n",
       "      <td>1</td>\n",
       "    </tr>\n",
       "    <tr>\n",
       "      <th>24</th>\n",
       "      <td>4b049ba0481317572fdbb7065875ed20ea508884ce584c...</td>\n",
       "      <td>1</td>\n",
       "    </tr>\n",
       "    <tr>\n",
       "      <th>25</th>\n",
       "      <td>4cfc1ed7f9285ba0b4cb1ff81035cb204179931d4d5538...</td>\n",
       "      <td>1</td>\n",
       "    </tr>\n",
       "    <tr>\n",
       "      <th>26</th>\n",
       "      <td>19504ed765dfa4e0c154fa6887f7660fe9d9783c053746...</td>\n",
       "      <td>1</td>\n",
       "    </tr>\n",
       "    <tr>\n",
       "      <th>27</th>\n",
       "      <td>531806fc56c295d1265a6f6f226bb91a3a3b63e0f481ed...</td>\n",
       "      <td>1</td>\n",
       "    </tr>\n",
       "    <tr>\n",
       "      <th>28</th>\n",
       "      <td>6fad8595cc313abc96446913c5098a3924fcb898ffe6e8...</td>\n",
       "      <td>1</td>\n",
       "    </tr>\n",
       "    <tr>\n",
       "      <th>29</th>\n",
       "      <td>20fad687a68e7b6fe3430dcbd01de824cef26618e622ab...</td>\n",
       "      <td>1</td>\n",
       "    </tr>\n",
       "    <tr>\n",
       "      <th>...</th>\n",
       "      <td>...</td>\n",
       "      <td>...</td>\n",
       "    </tr>\n",
       "    <tr>\n",
       "      <th>1470</th>\n",
       "      <td>2731a3109c0b1cf8cc125e809981893de40d3ce9c0c0d3...</td>\n",
       "      <td>1</td>\n",
       "    </tr>\n",
       "    <tr>\n",
       "      <th>1471</th>\n",
       "      <td>9f3486abba777207052c745daf1043de4927fad0bf4e65...</td>\n",
       "      <td>1</td>\n",
       "    </tr>\n",
       "    <tr>\n",
       "      <th>1472</th>\n",
       "      <td>8c74247803c18f017a817e15a09b2e03a21bfb780589fc...</td>\n",
       "      <td>1</td>\n",
       "    </tr>\n",
       "    <tr>\n",
       "      <th>1473</th>\n",
       "      <td>668c168032417601933bee0cf75cd840a9452e8f3d090c...</td>\n",
       "      <td>1</td>\n",
       "    </tr>\n",
       "    <tr>\n",
       "      <th>1474</th>\n",
       "      <td>e5655c77a2cfb8b1176b4f2def651b7a1b76b92ab2c52d...</td>\n",
       "      <td>1</td>\n",
       "    </tr>\n",
       "    <tr>\n",
       "      <th>1475</th>\n",
       "      <td>a3b9da12c448ba23534f08732014a827d770c113d35dfa...</td>\n",
       "      <td>1</td>\n",
       "    </tr>\n",
       "    <tr>\n",
       "      <th>1476</th>\n",
       "      <td>79d8910424501abea0670c9b5ffbcf8d18e614fc9af3ab...</td>\n",
       "      <td>1</td>\n",
       "    </tr>\n",
       "    <tr>\n",
       "      <th>1477</th>\n",
       "      <td>203e884b4a7c3584fbf646dbbf61c9632d07169ba7682f...</td>\n",
       "      <td>1</td>\n",
       "    </tr>\n",
       "    <tr>\n",
       "      <th>1478</th>\n",
       "      <td>d26607221f7c437f30e61c8fe5cd7d09581fb475255bf7...</td>\n",
       "      <td>1</td>\n",
       "    </tr>\n",
       "    <tr>\n",
       "      <th>1479</th>\n",
       "      <td>711bf1c8e61143c8b67691b3b968b56fb78cf7e224191a...</td>\n",
       "      <td>1</td>\n",
       "    </tr>\n",
       "    <tr>\n",
       "      <th>1480</th>\n",
       "      <td>9b93d741e0630c40c01313a7e321083aeb2d44e0f0b687...</td>\n",
       "      <td>1</td>\n",
       "    </tr>\n",
       "    <tr>\n",
       "      <th>1481</th>\n",
       "      <td>9587db23cc21670ad32c8ba5e8302989619edab61ad223...</td>\n",
       "      <td>1</td>\n",
       "    </tr>\n",
       "    <tr>\n",
       "      <th>1482</th>\n",
       "      <td>d3a304c82207c6b365669604a1bee792849c0faaa0ee7c...</td>\n",
       "      <td>1</td>\n",
       "    </tr>\n",
       "    <tr>\n",
       "      <th>1483</th>\n",
       "      <td>44723fa6dc3080a217f486cdcb5689b34711c54a2e484d...</td>\n",
       "      <td>1</td>\n",
       "    </tr>\n",
       "    <tr>\n",
       "      <th>1484</th>\n",
       "      <td>57be3bfc164710761e43cc4a87fd0501177d5621ccb58d...</td>\n",
       "      <td>1</td>\n",
       "    </tr>\n",
       "    <tr>\n",
       "      <th>1485</th>\n",
       "      <td>08d5c3c287896e4e8600f5fea1d07aa22d5523a14152de...</td>\n",
       "      <td>1</td>\n",
       "    </tr>\n",
       "    <tr>\n",
       "      <th>1486</th>\n",
       "      <td>131169514c8e9aa969a4b04742cacf0a34022f006c02a2...</td>\n",
       "      <td>1</td>\n",
       "    </tr>\n",
       "    <tr>\n",
       "      <th>1487</th>\n",
       "      <td>e826ed192c0feb507ef8a0540ea3b2ee7ad6079cab8ef5...</td>\n",
       "      <td>1</td>\n",
       "    </tr>\n",
       "    <tr>\n",
       "      <th>1488</th>\n",
       "      <td>9390a2bed1f51c92e1410417230e1604751313966a7622...</td>\n",
       "      <td>1</td>\n",
       "    </tr>\n",
       "    <tr>\n",
       "      <th>1489</th>\n",
       "      <td>b271154341257e92cc11992f05b22d9a5b12ca086869fb...</td>\n",
       "      <td>1</td>\n",
       "    </tr>\n",
       "    <tr>\n",
       "      <th>1490</th>\n",
       "      <td>8e5cd60255952f6448102841955b7cfcee3f51a09ea657...</td>\n",
       "      <td>1</td>\n",
       "    </tr>\n",
       "    <tr>\n",
       "      <th>1491</th>\n",
       "      <td>b7e1e369235e143eb528babd33e3a57ed4fd37fb82af83...</td>\n",
       "      <td>1</td>\n",
       "    </tr>\n",
       "    <tr>\n",
       "      <th>1492</th>\n",
       "      <td>6483dbe353c3c1bc775f0f71bfb54afd4247f73d0a4c3d...</td>\n",
       "      <td>1</td>\n",
       "    </tr>\n",
       "    <tr>\n",
       "      <th>1493</th>\n",
       "      <td>4407afc40a9e8387d9bd30c6a2d8889e1438fb4087e925...</td>\n",
       "      <td>1</td>\n",
       "    </tr>\n",
       "    <tr>\n",
       "      <th>1494</th>\n",
       "      <td>988fdaad8ea3f1a5c40b9924e0aaeaaa8fc2d69ee7dae7...</td>\n",
       "      <td>1</td>\n",
       "    </tr>\n",
       "    <tr>\n",
       "      <th>1495</th>\n",
       "      <td>1c187eeacb3f0273aa63c78a33830f7f1994c9fdefc0d3...</td>\n",
       "      <td>1</td>\n",
       "    </tr>\n",
       "    <tr>\n",
       "      <th>1496</th>\n",
       "      <td>6e4ea3ed2f89cb810f07805172908a0882bec84dc3b0b6...</td>\n",
       "      <td>1</td>\n",
       "    </tr>\n",
       "    <tr>\n",
       "      <th>1497</th>\n",
       "      <td>1e2d69d3019e3e538356a57808ac499bff112229bfffdb...</td>\n",
       "      <td>1</td>\n",
       "    </tr>\n",
       "    <tr>\n",
       "      <th>1498</th>\n",
       "      <td>6dcdc1437ad13e2706eab3b05f95de1b8081d0527b99d0...</td>\n",
       "      <td>1</td>\n",
       "    </tr>\n",
       "    <tr>\n",
       "      <th>1499</th>\n",
       "      <td>36fe51710b536ac94303a8d2630799ff75c7eda374d342...</td>\n",
       "      <td>1</td>\n",
       "    </tr>\n",
       "  </tbody>\n",
       "</table>\n",
       "<p>1500 rows × 2 columns</p>\n",
       "</div>"
      ],
      "text/plain": [
       "                                                     id  class\n",
       "0     c117693e1cf24a5232090d1548cb11d4e5ea0df65680c4...      1\n",
       "1     96baacc2e97886a998807ce197574821a6dc83c227c746...      1\n",
       "2     f9bd26db23eb9b544ca78be79b11b4d1259e802885861d...      1\n",
       "3     b42bcd8e6645fcc2ac40ee44b7dc8d74a77081d0aea7a1...      1\n",
       "4     5bc53cef9168882f0ff67a81b3e7269f62b7fd5343d06d...      1\n",
       "5     f80823d6bff6c0beba6d55a3157d7a4fa2de4f966351e0...      1\n",
       "6     3a12151639cf9f8e2af9ea36c2ce6bb15dd8730ea6dc90...      1\n",
       "7     a5e0980425df5b98864a9580e081a7209e1b6810ed515a...      1\n",
       "8     d4ea833073c4391387bebaef3c51c22861c1ff108cbb3c...      1\n",
       "9     013c78d920be5390dbc66ca238ae3f49a2b0cf13e36013...      1\n",
       "10    2390366350839d8f2e52faa4b491734171cf88bf948a8f...      1\n",
       "11    e1dbee71db867f7a9b86861654e4335f058b5f3040ee62...      1\n",
       "12    235793ff4b3fd913564da420c0ab3e06b004d1b3852b76...      1\n",
       "13    ad8c7c4f51d832e6ec7de77af21655a3ca9564c3d741b1...      1\n",
       "14    57b35ef8a1e099832fbb23db63286ed616ad861de14ff1...      1\n",
       "15    f0e671331422dd4599d8ec9707dc10bc1ba1bf0fddb566...      1\n",
       "16    73d415d8a4230e2df02a50a9c792c35f033c3f1b8f445b...      1\n",
       "17    18f6b8c45d4d9b9fcd101db03311f7726f2e92d149885f...      1\n",
       "18    091e72ed1eb8b74b8258f74455f8950eeaaca1bd2166d9...      1\n",
       "19    2f1e03ced50e953e502a5cc26691a8fdf60d312e7b2861...      1\n",
       "20    dc82ec510849dd62e838548650543b47764b70132aac93...      1\n",
       "21    f2b91360c7909872c60c8fa8736306d301effc39b3e9de...      1\n",
       "22    d39605133990e9ae156cdbb17355407d83152369890fc6...      1\n",
       "23    524c16631f21ddb1337cc40a7d81ed9f353a8b3923d71b...      1\n",
       "24    4b049ba0481317572fdbb7065875ed20ea508884ce584c...      1\n",
       "25    4cfc1ed7f9285ba0b4cb1ff81035cb204179931d4d5538...      1\n",
       "26    19504ed765dfa4e0c154fa6887f7660fe9d9783c053746...      1\n",
       "27    531806fc56c295d1265a6f6f226bb91a3a3b63e0f481ed...      1\n",
       "28    6fad8595cc313abc96446913c5098a3924fcb898ffe6e8...      1\n",
       "29    20fad687a68e7b6fe3430dcbd01de824cef26618e622ab...      1\n",
       "...                                                 ...    ...\n",
       "1470  2731a3109c0b1cf8cc125e809981893de40d3ce9c0c0d3...      1\n",
       "1471  9f3486abba777207052c745daf1043de4927fad0bf4e65...      1\n",
       "1472  8c74247803c18f017a817e15a09b2e03a21bfb780589fc...      1\n",
       "1473  668c168032417601933bee0cf75cd840a9452e8f3d090c...      1\n",
       "1474  e5655c77a2cfb8b1176b4f2def651b7a1b76b92ab2c52d...      1\n",
       "1475  a3b9da12c448ba23534f08732014a827d770c113d35dfa...      1\n",
       "1476  79d8910424501abea0670c9b5ffbcf8d18e614fc9af3ab...      1\n",
       "1477  203e884b4a7c3584fbf646dbbf61c9632d07169ba7682f...      1\n",
       "1478  d26607221f7c437f30e61c8fe5cd7d09581fb475255bf7...      1\n",
       "1479  711bf1c8e61143c8b67691b3b968b56fb78cf7e224191a...      1\n",
       "1480  9b93d741e0630c40c01313a7e321083aeb2d44e0f0b687...      1\n",
       "1481  9587db23cc21670ad32c8ba5e8302989619edab61ad223...      1\n",
       "1482  d3a304c82207c6b365669604a1bee792849c0faaa0ee7c...      1\n",
       "1483  44723fa6dc3080a217f486cdcb5689b34711c54a2e484d...      1\n",
       "1484  57be3bfc164710761e43cc4a87fd0501177d5621ccb58d...      1\n",
       "1485  08d5c3c287896e4e8600f5fea1d07aa22d5523a14152de...      1\n",
       "1486  131169514c8e9aa969a4b04742cacf0a34022f006c02a2...      1\n",
       "1487  e826ed192c0feb507ef8a0540ea3b2ee7ad6079cab8ef5...      1\n",
       "1488  9390a2bed1f51c92e1410417230e1604751313966a7622...      1\n",
       "1489  b271154341257e92cc11992f05b22d9a5b12ca086869fb...      1\n",
       "1490  8e5cd60255952f6448102841955b7cfcee3f51a09ea657...      1\n",
       "1491  b7e1e369235e143eb528babd33e3a57ed4fd37fb82af83...      1\n",
       "1492  6483dbe353c3c1bc775f0f71bfb54afd4247f73d0a4c3d...      1\n",
       "1493  4407afc40a9e8387d9bd30c6a2d8889e1438fb4087e925...      1\n",
       "1494  988fdaad8ea3f1a5c40b9924e0aaeaaa8fc2d69ee7dae7...      1\n",
       "1495  1c187eeacb3f0273aa63c78a33830f7f1994c9fdefc0d3...      1\n",
       "1496  6e4ea3ed2f89cb810f07805172908a0882bec84dc3b0b6...      1\n",
       "1497  1e2d69d3019e3e538356a57808ac499bff112229bfffdb...      1\n",
       "1498  6dcdc1437ad13e2706eab3b05f95de1b8081d0527b99d0...      1\n",
       "1499  36fe51710b536ac94303a8d2630799ff75c7eda374d342...      1\n",
       "\n",
       "[1500 rows x 2 columns]"
      ]
     },
     "execution_count": 27,
     "metadata": {},
     "output_type": "execute_result"
    }
   ],
   "source": [
    "testdata"
   ]
  },
  {
   "cell_type": "code",
   "execution_count": 28,
   "metadata": {},
   "outputs": [],
   "source": [
    "testdataindexlist=testdata.id.as_matrix().tolist()"
   ]
  },
  {
   "cell_type": "code",
   "execution_count": 29,
   "metadata": {},
   "outputs": [],
   "source": [
    "x_t=[]\n",
    "\n",
    "\n",
    "\n",
    "for f in testdataindexlist:\n",
    "    img=cv2.imread(datadir+'testset/'+f+'.jpg',0)\n",
    "    img200=cv2.resize(img,(sz,sz))\n",
    "    iii=(np.reshape(img200,(sz,sz,1))).astype(float)\n",
    "    x_t.append(iii)\n",
    "\n",
    "        \n",
    "x_test=np.array(x_t)"
   ]
  },
  {
   "cell_type": "code",
   "execution_count": 30,
   "metadata": {},
   "outputs": [
    {
     "data": {
      "text/plain": [
       "(1500, 32, 32, 1)"
      ]
     },
     "execution_count": 30,
     "metadata": {},
     "output_type": "execute_result"
    }
   ],
   "source": [
    "x_test.shape"
   ]
  },
  {
   "cell_type": "code",
   "execution_count": 31,
   "metadata": {},
   "outputs": [],
   "source": [
    "x_test = x_test / 255.0 #Normalization"
   ]
  },
  {
   "cell_type": "markdown",
   "metadata": {},
   "source": [
    "## ６.進行預測"
   ]
  },
  {
   "cell_type": "code",
   "execution_count": 32,
   "metadata": {},
   "outputs": [],
   "source": [
    "predict=model.predict_classes(x_test)"
   ]
  },
  {
   "cell_type": "code",
   "execution_count": 33,
   "metadata": {},
   "outputs": [
    {
     "data": {
      "text/plain": [
       "array([ 2, 10,  0, ..., 13,  5,  8])"
      ]
     },
     "execution_count": 33,
     "metadata": {},
     "output_type": "execute_result"
    }
   ],
   "source": [
    "predict"
   ]
  },
  {
   "cell_type": "code",
   "execution_count": 34,
   "metadata": {},
   "outputs": [
    {
     "data": {
      "text/plain": [
       "1500"
      ]
     },
     "execution_count": 34,
     "metadata": {},
     "output_type": "execute_result"
    }
   ],
   "source": [
    "testdata.id.count()"
   ]
  },
  {
   "cell_type": "markdown",
   "metadata": {},
   "source": [
    "將預測資料label匯入testdata"
   ]
  },
  {
   "cell_type": "code",
   "execution_count": 35,
   "metadata": {},
   "outputs": [
    {
     "name": "stderr",
     "output_type": "stream",
     "text": [
      "/opt/conda/lib/python3.6/site-packages/ipykernel_launcher.py:4: SettingWithCopyWarning: \n",
      "A value is trying to be set on a copy of a slice from a DataFrame\n",
      "\n",
      "See the caveats in the documentation: http://pandas.pydata.org/pandas-docs/stable/indexing.html#indexing-view-versus-copy\n",
      "  after removing the cwd from sys.path.\n"
     ]
    }
   ],
   "source": [
    "#sss=testdata.id.count()\n",
    "#print(sss)\n",
    "for j in range(0,len(x_test)-1):\n",
    "    testdata['class'][j] = predict[j]"
   ]
  },
  {
   "cell_type": "code",
   "execution_count": 36,
   "metadata": {},
   "outputs": [
    {
     "data": {
      "text/html": [
       "<div>\n",
       "<table border=\"1\" class=\"dataframe\">\n",
       "  <thead>\n",
       "    <tr style=\"text-align: right;\">\n",
       "      <th></th>\n",
       "      <th>id</th>\n",
       "      <th>class</th>\n",
       "    </tr>\n",
       "  </thead>\n",
       "  <tbody>\n",
       "    <tr>\n",
       "      <th>0</th>\n",
       "      <td>c117693e1cf24a5232090d1548cb11d4e5ea0df65680c4...</td>\n",
       "      <td>2</td>\n",
       "    </tr>\n",
       "    <tr>\n",
       "      <th>1</th>\n",
       "      <td>96baacc2e97886a998807ce197574821a6dc83c227c746...</td>\n",
       "      <td>10</td>\n",
       "    </tr>\n",
       "    <tr>\n",
       "      <th>2</th>\n",
       "      <td>f9bd26db23eb9b544ca78be79b11b4d1259e802885861d...</td>\n",
       "      <td>0</td>\n",
       "    </tr>\n",
       "    <tr>\n",
       "      <th>3</th>\n",
       "      <td>b42bcd8e6645fcc2ac40ee44b7dc8d74a77081d0aea7a1...</td>\n",
       "      <td>7</td>\n",
       "    </tr>\n",
       "    <tr>\n",
       "      <th>4</th>\n",
       "      <td>5bc53cef9168882f0ff67a81b3e7269f62b7fd5343d06d...</td>\n",
       "      <td>0</td>\n",
       "    </tr>\n",
       "    <tr>\n",
       "      <th>5</th>\n",
       "      <td>f80823d6bff6c0beba6d55a3157d7a4fa2de4f966351e0...</td>\n",
       "      <td>13</td>\n",
       "    </tr>\n",
       "    <tr>\n",
       "      <th>6</th>\n",
       "      <td>3a12151639cf9f8e2af9ea36c2ce6bb15dd8730ea6dc90...</td>\n",
       "      <td>13</td>\n",
       "    </tr>\n",
       "    <tr>\n",
       "      <th>7</th>\n",
       "      <td>a5e0980425df5b98864a9580e081a7209e1b6810ed515a...</td>\n",
       "      <td>10</td>\n",
       "    </tr>\n",
       "    <tr>\n",
       "      <th>8</th>\n",
       "      <td>d4ea833073c4391387bebaef3c51c22861c1ff108cbb3c...</td>\n",
       "      <td>11</td>\n",
       "    </tr>\n",
       "    <tr>\n",
       "      <th>9</th>\n",
       "      <td>013c78d920be5390dbc66ca238ae3f49a2b0cf13e36013...</td>\n",
       "      <td>8</td>\n",
       "    </tr>\n",
       "    <tr>\n",
       "      <th>10</th>\n",
       "      <td>2390366350839d8f2e52faa4b491734171cf88bf948a8f...</td>\n",
       "      <td>2</td>\n",
       "    </tr>\n",
       "    <tr>\n",
       "      <th>11</th>\n",
       "      <td>e1dbee71db867f7a9b86861654e4335f058b5f3040ee62...</td>\n",
       "      <td>6</td>\n",
       "    </tr>\n",
       "    <tr>\n",
       "      <th>12</th>\n",
       "      <td>235793ff4b3fd913564da420c0ab3e06b004d1b3852b76...</td>\n",
       "      <td>3</td>\n",
       "    </tr>\n",
       "    <tr>\n",
       "      <th>13</th>\n",
       "      <td>ad8c7c4f51d832e6ec7de77af21655a3ca9564c3d741b1...</td>\n",
       "      <td>8</td>\n",
       "    </tr>\n",
       "    <tr>\n",
       "      <th>14</th>\n",
       "      <td>57b35ef8a1e099832fbb23db63286ed616ad861de14ff1...</td>\n",
       "      <td>13</td>\n",
       "    </tr>\n",
       "    <tr>\n",
       "      <th>15</th>\n",
       "      <td>f0e671331422dd4599d8ec9707dc10bc1ba1bf0fddb566...</td>\n",
       "      <td>10</td>\n",
       "    </tr>\n",
       "    <tr>\n",
       "      <th>16</th>\n",
       "      <td>73d415d8a4230e2df02a50a9c792c35f033c3f1b8f445b...</td>\n",
       "      <td>0</td>\n",
       "    </tr>\n",
       "    <tr>\n",
       "      <th>17</th>\n",
       "      <td>18f6b8c45d4d9b9fcd101db03311f7726f2e92d149885f...</td>\n",
       "      <td>1</td>\n",
       "    </tr>\n",
       "    <tr>\n",
       "      <th>18</th>\n",
       "      <td>091e72ed1eb8b74b8258f74455f8950eeaaca1bd2166d9...</td>\n",
       "      <td>11</td>\n",
       "    </tr>\n",
       "    <tr>\n",
       "      <th>19</th>\n",
       "      <td>2f1e03ced50e953e502a5cc26691a8fdf60d312e7b2861...</td>\n",
       "      <td>13</td>\n",
       "    </tr>\n",
       "    <tr>\n",
       "      <th>20</th>\n",
       "      <td>dc82ec510849dd62e838548650543b47764b70132aac93...</td>\n",
       "      <td>14</td>\n",
       "    </tr>\n",
       "    <tr>\n",
       "      <th>21</th>\n",
       "      <td>f2b91360c7909872c60c8fa8736306d301effc39b3e9de...</td>\n",
       "      <td>14</td>\n",
       "    </tr>\n",
       "    <tr>\n",
       "      <th>22</th>\n",
       "      <td>d39605133990e9ae156cdbb17355407d83152369890fc6...</td>\n",
       "      <td>2</td>\n",
       "    </tr>\n",
       "    <tr>\n",
       "      <th>23</th>\n",
       "      <td>524c16631f21ddb1337cc40a7d81ed9f353a8b3923d71b...</td>\n",
       "      <td>8</td>\n",
       "    </tr>\n",
       "    <tr>\n",
       "      <th>24</th>\n",
       "      <td>4b049ba0481317572fdbb7065875ed20ea508884ce584c...</td>\n",
       "      <td>10</td>\n",
       "    </tr>\n",
       "    <tr>\n",
       "      <th>25</th>\n",
       "      <td>4cfc1ed7f9285ba0b4cb1ff81035cb204179931d4d5538...</td>\n",
       "      <td>3</td>\n",
       "    </tr>\n",
       "    <tr>\n",
       "      <th>26</th>\n",
       "      <td>19504ed765dfa4e0c154fa6887f7660fe9d9783c053746...</td>\n",
       "      <td>13</td>\n",
       "    </tr>\n",
       "    <tr>\n",
       "      <th>27</th>\n",
       "      <td>531806fc56c295d1265a6f6f226bb91a3a3b63e0f481ed...</td>\n",
       "      <td>13</td>\n",
       "    </tr>\n",
       "    <tr>\n",
       "      <th>28</th>\n",
       "      <td>6fad8595cc313abc96446913c5098a3924fcb898ffe6e8...</td>\n",
       "      <td>10</td>\n",
       "    </tr>\n",
       "    <tr>\n",
       "      <th>29</th>\n",
       "      <td>20fad687a68e7b6fe3430dcbd01de824cef26618e622ab...</td>\n",
       "      <td>10</td>\n",
       "    </tr>\n",
       "    <tr>\n",
       "      <th>...</th>\n",
       "      <td>...</td>\n",
       "      <td>...</td>\n",
       "    </tr>\n",
       "    <tr>\n",
       "      <th>1470</th>\n",
       "      <td>2731a3109c0b1cf8cc125e809981893de40d3ce9c0c0d3...</td>\n",
       "      <td>3</td>\n",
       "    </tr>\n",
       "    <tr>\n",
       "      <th>1471</th>\n",
       "      <td>9f3486abba777207052c745daf1043de4927fad0bf4e65...</td>\n",
       "      <td>10</td>\n",
       "    </tr>\n",
       "    <tr>\n",
       "      <th>1472</th>\n",
       "      <td>8c74247803c18f017a817e15a09b2e03a21bfb780589fc...</td>\n",
       "      <td>13</td>\n",
       "    </tr>\n",
       "    <tr>\n",
       "      <th>1473</th>\n",
       "      <td>668c168032417601933bee0cf75cd840a9452e8f3d090c...</td>\n",
       "      <td>6</td>\n",
       "    </tr>\n",
       "    <tr>\n",
       "      <th>1474</th>\n",
       "      <td>e5655c77a2cfb8b1176b4f2def651b7a1b76b92ab2c52d...</td>\n",
       "      <td>1</td>\n",
       "    </tr>\n",
       "    <tr>\n",
       "      <th>1475</th>\n",
       "      <td>a3b9da12c448ba23534f08732014a827d770c113d35dfa...</td>\n",
       "      <td>11</td>\n",
       "    </tr>\n",
       "    <tr>\n",
       "      <th>1476</th>\n",
       "      <td>79d8910424501abea0670c9b5ffbcf8d18e614fc9af3ab...</td>\n",
       "      <td>8</td>\n",
       "    </tr>\n",
       "    <tr>\n",
       "      <th>1477</th>\n",
       "      <td>203e884b4a7c3584fbf646dbbf61c9632d07169ba7682f...</td>\n",
       "      <td>5</td>\n",
       "    </tr>\n",
       "    <tr>\n",
       "      <th>1478</th>\n",
       "      <td>d26607221f7c437f30e61c8fe5cd7d09581fb475255bf7...</td>\n",
       "      <td>8</td>\n",
       "    </tr>\n",
       "    <tr>\n",
       "      <th>1479</th>\n",
       "      <td>711bf1c8e61143c8b67691b3b968b56fb78cf7e224191a...</td>\n",
       "      <td>13</td>\n",
       "    </tr>\n",
       "    <tr>\n",
       "      <th>1480</th>\n",
       "      <td>9b93d741e0630c40c01313a7e321083aeb2d44e0f0b687...</td>\n",
       "      <td>4</td>\n",
       "    </tr>\n",
       "    <tr>\n",
       "      <th>1481</th>\n",
       "      <td>9587db23cc21670ad32c8ba5e8302989619edab61ad223...</td>\n",
       "      <td>13</td>\n",
       "    </tr>\n",
       "    <tr>\n",
       "      <th>1482</th>\n",
       "      <td>d3a304c82207c6b365669604a1bee792849c0faaa0ee7c...</td>\n",
       "      <td>0</td>\n",
       "    </tr>\n",
       "    <tr>\n",
       "      <th>1483</th>\n",
       "      <td>44723fa6dc3080a217f486cdcb5689b34711c54a2e484d...</td>\n",
       "      <td>13</td>\n",
       "    </tr>\n",
       "    <tr>\n",
       "      <th>1484</th>\n",
       "      <td>57be3bfc164710761e43cc4a87fd0501177d5621ccb58d...</td>\n",
       "      <td>2</td>\n",
       "    </tr>\n",
       "    <tr>\n",
       "      <th>1485</th>\n",
       "      <td>08d5c3c287896e4e8600f5fea1d07aa22d5523a14152de...</td>\n",
       "      <td>14</td>\n",
       "    </tr>\n",
       "    <tr>\n",
       "      <th>1486</th>\n",
       "      <td>131169514c8e9aa969a4b04742cacf0a34022f006c02a2...</td>\n",
       "      <td>2</td>\n",
       "    </tr>\n",
       "    <tr>\n",
       "      <th>1487</th>\n",
       "      <td>e826ed192c0feb507ef8a0540ea3b2ee7ad6079cab8ef5...</td>\n",
       "      <td>5</td>\n",
       "    </tr>\n",
       "    <tr>\n",
       "      <th>1488</th>\n",
       "      <td>9390a2bed1f51c92e1410417230e1604751313966a7622...</td>\n",
       "      <td>5</td>\n",
       "    </tr>\n",
       "    <tr>\n",
       "      <th>1489</th>\n",
       "      <td>b271154341257e92cc11992f05b22d9a5b12ca086869fb...</td>\n",
       "      <td>5</td>\n",
       "    </tr>\n",
       "    <tr>\n",
       "      <th>1490</th>\n",
       "      <td>8e5cd60255952f6448102841955b7cfcee3f51a09ea657...</td>\n",
       "      <td>13</td>\n",
       "    </tr>\n",
       "    <tr>\n",
       "      <th>1491</th>\n",
       "      <td>b7e1e369235e143eb528babd33e3a57ed4fd37fb82af83...</td>\n",
       "      <td>8</td>\n",
       "    </tr>\n",
       "    <tr>\n",
       "      <th>1492</th>\n",
       "      <td>6483dbe353c3c1bc775f0f71bfb54afd4247f73d0a4c3d...</td>\n",
       "      <td>7</td>\n",
       "    </tr>\n",
       "    <tr>\n",
       "      <th>1493</th>\n",
       "      <td>4407afc40a9e8387d9bd30c6a2d8889e1438fb4087e925...</td>\n",
       "      <td>3</td>\n",
       "    </tr>\n",
       "    <tr>\n",
       "      <th>1494</th>\n",
       "      <td>988fdaad8ea3f1a5c40b9924e0aaeaaa8fc2d69ee7dae7...</td>\n",
       "      <td>14</td>\n",
       "    </tr>\n",
       "    <tr>\n",
       "      <th>1495</th>\n",
       "      <td>1c187eeacb3f0273aa63c78a33830f7f1994c9fdefc0d3...</td>\n",
       "      <td>13</td>\n",
       "    </tr>\n",
       "    <tr>\n",
       "      <th>1496</th>\n",
       "      <td>6e4ea3ed2f89cb810f07805172908a0882bec84dc3b0b6...</td>\n",
       "      <td>10</td>\n",
       "    </tr>\n",
       "    <tr>\n",
       "      <th>1497</th>\n",
       "      <td>1e2d69d3019e3e538356a57808ac499bff112229bfffdb...</td>\n",
       "      <td>13</td>\n",
       "    </tr>\n",
       "    <tr>\n",
       "      <th>1498</th>\n",
       "      <td>6dcdc1437ad13e2706eab3b05f95de1b8081d0527b99d0...</td>\n",
       "      <td>5</td>\n",
       "    </tr>\n",
       "    <tr>\n",
       "      <th>1499</th>\n",
       "      <td>36fe51710b536ac94303a8d2630799ff75c7eda374d342...</td>\n",
       "      <td>1</td>\n",
       "    </tr>\n",
       "  </tbody>\n",
       "</table>\n",
       "<p>1500 rows × 2 columns</p>\n",
       "</div>"
      ],
      "text/plain": [
       "                                                     id  class\n",
       "0     c117693e1cf24a5232090d1548cb11d4e5ea0df65680c4...      2\n",
       "1     96baacc2e97886a998807ce197574821a6dc83c227c746...     10\n",
       "2     f9bd26db23eb9b544ca78be79b11b4d1259e802885861d...      0\n",
       "3     b42bcd8e6645fcc2ac40ee44b7dc8d74a77081d0aea7a1...      7\n",
       "4     5bc53cef9168882f0ff67a81b3e7269f62b7fd5343d06d...      0\n",
       "5     f80823d6bff6c0beba6d55a3157d7a4fa2de4f966351e0...     13\n",
       "6     3a12151639cf9f8e2af9ea36c2ce6bb15dd8730ea6dc90...     13\n",
       "7     a5e0980425df5b98864a9580e081a7209e1b6810ed515a...     10\n",
       "8     d4ea833073c4391387bebaef3c51c22861c1ff108cbb3c...     11\n",
       "9     013c78d920be5390dbc66ca238ae3f49a2b0cf13e36013...      8\n",
       "10    2390366350839d8f2e52faa4b491734171cf88bf948a8f...      2\n",
       "11    e1dbee71db867f7a9b86861654e4335f058b5f3040ee62...      6\n",
       "12    235793ff4b3fd913564da420c0ab3e06b004d1b3852b76...      3\n",
       "13    ad8c7c4f51d832e6ec7de77af21655a3ca9564c3d741b1...      8\n",
       "14    57b35ef8a1e099832fbb23db63286ed616ad861de14ff1...     13\n",
       "15    f0e671331422dd4599d8ec9707dc10bc1ba1bf0fddb566...     10\n",
       "16    73d415d8a4230e2df02a50a9c792c35f033c3f1b8f445b...      0\n",
       "17    18f6b8c45d4d9b9fcd101db03311f7726f2e92d149885f...      1\n",
       "18    091e72ed1eb8b74b8258f74455f8950eeaaca1bd2166d9...     11\n",
       "19    2f1e03ced50e953e502a5cc26691a8fdf60d312e7b2861...     13\n",
       "20    dc82ec510849dd62e838548650543b47764b70132aac93...     14\n",
       "21    f2b91360c7909872c60c8fa8736306d301effc39b3e9de...     14\n",
       "22    d39605133990e9ae156cdbb17355407d83152369890fc6...      2\n",
       "23    524c16631f21ddb1337cc40a7d81ed9f353a8b3923d71b...      8\n",
       "24    4b049ba0481317572fdbb7065875ed20ea508884ce584c...     10\n",
       "25    4cfc1ed7f9285ba0b4cb1ff81035cb204179931d4d5538...      3\n",
       "26    19504ed765dfa4e0c154fa6887f7660fe9d9783c053746...     13\n",
       "27    531806fc56c295d1265a6f6f226bb91a3a3b63e0f481ed...     13\n",
       "28    6fad8595cc313abc96446913c5098a3924fcb898ffe6e8...     10\n",
       "29    20fad687a68e7b6fe3430dcbd01de824cef26618e622ab...     10\n",
       "...                                                 ...    ...\n",
       "1470  2731a3109c0b1cf8cc125e809981893de40d3ce9c0c0d3...      3\n",
       "1471  9f3486abba777207052c745daf1043de4927fad0bf4e65...     10\n",
       "1472  8c74247803c18f017a817e15a09b2e03a21bfb780589fc...     13\n",
       "1473  668c168032417601933bee0cf75cd840a9452e8f3d090c...      6\n",
       "1474  e5655c77a2cfb8b1176b4f2def651b7a1b76b92ab2c52d...      1\n",
       "1475  a3b9da12c448ba23534f08732014a827d770c113d35dfa...     11\n",
       "1476  79d8910424501abea0670c9b5ffbcf8d18e614fc9af3ab...      8\n",
       "1477  203e884b4a7c3584fbf646dbbf61c9632d07169ba7682f...      5\n",
       "1478  d26607221f7c437f30e61c8fe5cd7d09581fb475255bf7...      8\n",
       "1479  711bf1c8e61143c8b67691b3b968b56fb78cf7e224191a...     13\n",
       "1480  9b93d741e0630c40c01313a7e321083aeb2d44e0f0b687...      4\n",
       "1481  9587db23cc21670ad32c8ba5e8302989619edab61ad223...     13\n",
       "1482  d3a304c82207c6b365669604a1bee792849c0faaa0ee7c...      0\n",
       "1483  44723fa6dc3080a217f486cdcb5689b34711c54a2e484d...     13\n",
       "1484  57be3bfc164710761e43cc4a87fd0501177d5621ccb58d...      2\n",
       "1485  08d5c3c287896e4e8600f5fea1d07aa22d5523a14152de...     14\n",
       "1486  131169514c8e9aa969a4b04742cacf0a34022f006c02a2...      2\n",
       "1487  e826ed192c0feb507ef8a0540ea3b2ee7ad6079cab8ef5...      5\n",
       "1488  9390a2bed1f51c92e1410417230e1604751313966a7622...      5\n",
       "1489  b271154341257e92cc11992f05b22d9a5b12ca086869fb...      5\n",
       "1490  8e5cd60255952f6448102841955b7cfcee3f51a09ea657...     13\n",
       "1491  b7e1e369235e143eb528babd33e3a57ed4fd37fb82af83...      8\n",
       "1492  6483dbe353c3c1bc775f0f71bfb54afd4247f73d0a4c3d...      7\n",
       "1493  4407afc40a9e8387d9bd30c6a2d8889e1438fb4087e925...      3\n",
       "1494  988fdaad8ea3f1a5c40b9924e0aaeaaa8fc2d69ee7dae7...     14\n",
       "1495  1c187eeacb3f0273aa63c78a33830f7f1994c9fdefc0d3...     13\n",
       "1496  6e4ea3ed2f89cb810f07805172908a0882bec84dc3b0b6...     10\n",
       "1497  1e2d69d3019e3e538356a57808ac499bff112229bfffdb...     13\n",
       "1498  6dcdc1437ad13e2706eab3b05f95de1b8081d0527b99d0...      5\n",
       "1499  36fe51710b536ac94303a8d2630799ff75c7eda374d342...      1\n",
       "\n",
       "[1500 rows x 2 columns]"
      ]
     },
     "execution_count": 36,
     "metadata": {},
     "output_type": "execute_result"
    }
   ],
   "source": [
    "testdata"
   ]
  },
  {
   "cell_type": "markdown",
   "metadata": {},
   "source": [
    "匯出結果"
   ]
  },
  {
   "cell_type": "code",
   "execution_count": 37,
   "metadata": {},
   "outputs": [],
   "source": [
    "testdata.to_csv('ans.csv', index=False)"
   ]
  },
  {
   "cell_type": "code",
   "execution_count": null,
   "metadata": {},
   "outputs": [],
   "source": []
  }
 ],
 "metadata": {
  "kernelspec": {
   "display_name": "Python 3",
   "language": "python",
   "name": "python3"
  },
  "language_info": {
   "codemirror_mode": {
    "name": "ipython",
    "version": 3
   },
   "file_extension": ".py",
   "mimetype": "text/x-python",
   "name": "python",
   "nbconvert_exporter": "python",
   "pygments_lexer": "ipython3",
   "version": "3.6.3"
  }
 },
 "nbformat": 4,
 "nbformat_minor": 2
}
