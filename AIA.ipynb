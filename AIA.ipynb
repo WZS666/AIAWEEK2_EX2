{
 "cells": [
  {
   "cell_type": "markdown",
   "metadata": {},
   "source": [
    "# [AIA _ WHERE AM I 圖像分類](https://www.kaggle.com/c/aia-tc-image-cla-where-am-i/leaderboard \"hello\")"
   ]
  },
  {
   "cell_type": "markdown",
   "metadata": {},
   "source": [
    "### 步驟：<br>\n",
    " 1.定義問題<br>\n",
    " 2.資料匯入<br>\n",
    " 3.資料預處理<br>\n",
    " 4.建立模型<br>\n",
    " 5.進行訓練<br>\n",
    " 6.進行預測<br>\n",
    " \n",
    "## １.定義問題<br>\n",
    "將各種不同類別的照片，分門別類將其放入15種不同的資料夾中。<br>\n",
    "\n",
    "## ２.資料匯入"
   ]
  },
  {
   "cell_type": "code",
   "execution_count": 1,
   "metadata": {},
   "outputs": [
    {
     "name": "stderr",
     "output_type": "stream",
     "text": [
      "Using TensorFlow backend.\n"
     ]
    }
   ],
   "source": [
    "from sklearn.model_selection import train_test_split\n",
    "from sklearn.utils import shuffle\n",
    "from keras.preprocessing.image import ImageDataGenerator\n",
    "import tensorflow as tf\n",
    "import numpy as np\n",
    "import os\n",
    "import pandas as pd\n",
    "import numpy as np\n",
    "import glob\n",
    "import cv2\n",
    "\n",
    "from tqdm import tqdm\n",
    "import matplotlib.pyplot as plt\n",
    "datadir='//data/examples/may_the_4_be_with_u/where_am_i/'"
   ]
  },
  {
   "cell_type": "markdown",
   "metadata": {},
   "source": [
    "### 將mid_term_mapping.txt的label讀入"
   ]
  },
  {
   "cell_type": "code",
   "execution_count": 2,
   "metadata": {},
   "outputs": [],
   "source": [
    "labelmap=pd.read_csv(datadir+'mid_term_mapping.txt',names=['place','index'])"
   ]
  },
  {
   "cell_type": "code",
   "execution_count": 3,
   "metadata": {},
   "outputs": [
    {
     "data": {
      "text/html": [
       "<div>\n",
       "<table border=\"1\" class=\"dataframe\">\n",
       "  <thead>\n",
       "    <tr style=\"text-align: right;\">\n",
       "      <th></th>\n",
       "      <th>place</th>\n",
       "      <th>index</th>\n",
       "    </tr>\n",
       "  </thead>\n",
       "  <tbody>\n",
       "    <tr>\n",
       "      <th>0</th>\n",
       "      <td>CALsuburb</td>\n",
       "      <td>9</td>\n",
       "    </tr>\n",
       "    <tr>\n",
       "      <th>1</th>\n",
       "      <td>PARoffice</td>\n",
       "      <td>7</td>\n",
       "    </tr>\n",
       "    <tr>\n",
       "      <th>2</th>\n",
       "      <td>bedroom</td>\n",
       "      <td>12</td>\n",
       "    </tr>\n",
       "    <tr>\n",
       "      <th>3</th>\n",
       "      <td>coast</td>\n",
       "      <td>10</td>\n",
       "    </tr>\n",
       "    <tr>\n",
       "      <th>4</th>\n",
       "      <td>forest</td>\n",
       "      <td>4</td>\n",
       "    </tr>\n",
       "    <tr>\n",
       "      <th>5</th>\n",
       "      <td>highway</td>\n",
       "      <td>14</td>\n",
       "    </tr>\n",
       "    <tr>\n",
       "      <th>6</th>\n",
       "      <td>industrial</td>\n",
       "      <td>2</td>\n",
       "    </tr>\n",
       "    <tr>\n",
       "      <th>7</th>\n",
       "      <td>insidecity</td>\n",
       "      <td>3</td>\n",
       "    </tr>\n",
       "    <tr>\n",
       "      <th>8</th>\n",
       "      <td>kitchen</td>\n",
       "      <td>0</td>\n",
       "    </tr>\n",
       "    <tr>\n",
       "      <th>9</th>\n",
       "      <td>livingroom</td>\n",
       "      <td>5</td>\n",
       "    </tr>\n",
       "    <tr>\n",
       "      <th>10</th>\n",
       "      <td>mountain</td>\n",
       "      <td>8</td>\n",
       "    </tr>\n",
       "    <tr>\n",
       "      <th>11</th>\n",
       "      <td>opencountry</td>\n",
       "      <td>6</td>\n",
       "    </tr>\n",
       "    <tr>\n",
       "      <th>12</th>\n",
       "      <td>store</td>\n",
       "      <td>11</td>\n",
       "    </tr>\n",
       "    <tr>\n",
       "      <th>13</th>\n",
       "      <td>street</td>\n",
       "      <td>1</td>\n",
       "    </tr>\n",
       "    <tr>\n",
       "      <th>14</th>\n",
       "      <td>tallbuilding</td>\n",
       "      <td>13</td>\n",
       "    </tr>\n",
       "  </tbody>\n",
       "</table>\n",
       "</div>"
      ],
      "text/plain": [
       "           place  index\n",
       "0      CALsuburb      9\n",
       "1      PARoffice      7\n",
       "2        bedroom     12\n",
       "3          coast     10\n",
       "4         forest      4\n",
       "5        highway     14\n",
       "6     industrial      2\n",
       "7     insidecity      3\n",
       "8        kitchen      0\n",
       "9     livingroom      5\n",
       "10      mountain      8\n",
       "11   opencountry      6\n",
       "12         store     11\n",
       "13        street      1\n",
       "14  tallbuilding     13"
      ]
     },
     "execution_count": 3,
     "metadata": {},
     "output_type": "execute_result"
    }
   ],
   "source": [
    "labelmap"
   ]
  },
  {
   "cell_type": "code",
   "execution_count": 4,
   "metadata": {},
   "outputs": [
    {
     "name": "stderr",
     "output_type": "stream",
     "text": [
      "/opt/conda/lib/python3.6/site-packages/ipykernel_launcher.py:1: FutureWarning: sort(columns=....) is deprecated, use sort_values(by=.....)\n",
      "  \"\"\"Entry point for launching an IPython kernel.\n"
     ]
    }
   ],
   "source": [
    "sortlabel=labelmap.sort('index')"
   ]
  },
  {
   "cell_type": "code",
   "execution_count": 5,
   "metadata": {},
   "outputs": [],
   "source": [
    "targetlist=sortlabel.place.as_matrix().tolist()"
   ]
  },
  {
   "cell_type": "code",
   "execution_count": 6,
   "metadata": {},
   "outputs": [
    {
     "data": {
      "text/plain": [
       "['kitchen',\n",
       " 'street',\n",
       " 'industrial',\n",
       " 'insidecity',\n",
       " 'forest',\n",
       " 'livingroom',\n",
       " 'opencountry',\n",
       " 'PARoffice',\n",
       " 'mountain',\n",
       " 'CALsuburb',\n",
       " 'coast',\n",
       " 'store',\n",
       " 'bedroom',\n",
       " 'tallbuilding',\n",
       " 'highway']"
      ]
     },
     "execution_count": 6,
     "metadata": {},
     "output_type": "execute_result"
    }
   ],
   "source": [
    "targetlist"
   ]
  },
  {
   "cell_type": "markdown",
   "metadata": {},
   "source": [
    "## ３.資料預處理<br>\n",
    "讀入照片檔"
   ]
  },
  {
   "cell_type": "code",
   "execution_count": 7,
   "metadata": {},
   "outputs": [],
   "source": [
    "x=[]\n",
    "y=[]\n",
    "sz=250\n",
    "\n",
    "for i,c in enumerate(targetlist):\n",
    "    ff=glob.glob((datadir+'train/'+c+'/*jpg'))\n",
    "    for f in ff:\n",
    "        img=cv2.imread(f,0)\n",
    "        img200=cv2.resize(img,(sz,sz))\n",
    "        iii=(np.reshape(img200,(sz,sz,1))).astype(float)\n",
    "        x.append(iii)\n",
    "        nn=np.zeros(15,dtype=float) #One Hot\n",
    "        nn[i]=1\n",
    "        y.append(nn)\n",
    "x_train=np.array(x)\n",
    "y_label=np.array(y)"
   ]
  },
  {
   "cell_type": "code",
   "execution_count": 8,
   "metadata": {},
   "outputs": [
    {
     "name": "stdout",
     "output_type": "stream",
     "text": [
      "[ 1.  0.  0.  0.  0.  0.  0.  0.  0.  0.  0.  0.  0.  0.  0.]\n"
     ]
    },
    {
     "data": {
      "text/plain": [
       "2985"
      ]
     },
     "execution_count": 8,
     "metadata": {},
     "output_type": "execute_result"
    }
   ],
   "source": [
    "print(y_label[1])\n",
    "len(y_label)"
   ]
  },
  {
   "cell_type": "code",
   "execution_count": 9,
   "metadata": {},
   "outputs": [
    {
     "data": {
      "text/plain": [
       "(2985, 250, 250, 1)"
      ]
     },
     "execution_count": 9,
     "metadata": {},
     "output_type": "execute_result"
    }
   ],
   "source": [
    "x_train.shape"
   ]
  },
  {
   "cell_type": "markdown",
   "metadata": {},
   "source": [
    "將x_train Normalization"
   ]
  },
  {
   "cell_type": "code",
   "execution_count": 10,
   "metadata": {},
   "outputs": [
    {
     "name": "stdout",
     "output_type": "stream",
     "text": [
      "[ 0.67843137]\n"
     ]
    },
    {
     "data": {
      "text/plain": [
       "2985"
      ]
     },
     "execution_count": 10,
     "metadata": {},
     "output_type": "execute_result"
    }
   ],
   "source": [
    "x_train=x_train / 255.0\n",
    "print(x_train[1][1][1])\n",
    "len(x_train)"
   ]
  },
  {
   "cell_type": "markdown",
   "metadata": {},
   "source": [
    "將資料做測試集、驗證集的分割"
   ]
  },
  {
   "cell_type": "code",
   "execution_count": 11,
   "metadata": {},
   "outputs": [
    {
     "name": "stdout",
     "output_type": "stream",
     "text": [
      "training set data dimension\n",
      "(2686, 250, 250, 1)\n",
      "(2686, 15)\n",
      "-----------\n",
      "training set: 2686\n",
      "validation set: 299\n"
     ]
    }
   ],
   "source": [
    "random_seed  = 2 #用random_seed來做作隨機分割\n",
    "x_train, x_valid, y_label, y_valid = train_test_split(x_train, \n",
    "                                                      y_label, \n",
    "                                                      test_size = 0.1, random_state=random_seed)\n",
    "\n",
    "print(\"training set data dimension\")\n",
    "print(x_train.shape)\n",
    "print(y_label.shape)\n",
    "print(\"-----------\")\n",
    "print(\"training set: %i\" % len(x_train))\n",
    "print(\"validation set: %i\" % len(x_valid))"
   ]
  },
  {
   "cell_type": "code",
   "execution_count": 12,
   "metadata": {},
   "outputs": [
    {
     "name": "stdout",
     "output_type": "stream",
     "text": [
      "train data: images: (2686, 250, 250, 1)  labels: (2686, 15)\n",
      "valid data: images: (299, 250, 250, 1)  labels: (299, 15)\n"
     ]
    }
   ],
   "source": [
    "print(\"train data:\",'images:',x_train.shape,\n",
    "      \" labels:\",y_label.shape)\n",
    "print(\"valid data:\",'images:',x_valid.shape ,\n",
    "      \" labels:\",y_valid.shape)"
   ]
  },
  {
   "cell_type": "code",
   "execution_count": 13,
   "metadata": {},
   "outputs": [],
   "source": [
    "train_datagen = ImageDataGenerator(\n",
    "    zca_whitening=False,\n",
    "    rotation_range=0.9,\n",
    "    width_shift_range=0.2,\n",
    "    height_shift_range=0.2,\n",
    "    shear_range=0.2,\n",
    "    zoom_range=0.2,\n",
    "    horizontal_flip=True,\n",
    "    vertical_flip=True,\n",
    "    fill_mode='nearest')"
   ]
  },
  {
   "cell_type": "markdown",
   "metadata": {},
   "source": [
    "## ４.建立模型\n",
    "這次我利用keras卷積神經網路(CNN)來當我的模型。<br><br>\n",
    "![CNN](http://html.rhhz.net/CHXB/html/PIC/chxb-45-9-1073-4.jpg)<br>"
   ]
  },
  {
   "cell_type": "code",
   "execution_count": 14,
   "metadata": {},
   "outputs": [],
   "source": [
    "from keras.models import Sequential\n",
    "from keras.layers import Dense, Dropout, Activation, Flatten\n",
    "from keras.layers import Conv2D, MaxPooling2D, ZeroPadding2D"
   ]
  },
  {
   "cell_type": "markdown",
   "metadata": {},
   "source": [
    "建立keras的Sequential模型"
   ]
  },
  {
   "cell_type": "code",
   "execution_count": 15,
   "metadata": {},
   "outputs": [],
   "source": [
    "model = Sequential()"
   ]
  },
  {
   "cell_type": "markdown",
   "metadata": {},
   "source": [
    "建立卷積層1與池化層1"
   ]
  },
  {
   "cell_type": "code",
   "execution_count": 16,
   "metadata": {},
   "outputs": [],
   "source": [
    "model.add(Conv2D(filters=32,kernel_size=(3,3),\n",
    "                 input_shape=(sz, sz,1),\n",
    "                 activation='relu',\n",
    "                 padding='same'))\n",
    "model.add(Dropout(rate=0.3)) #Dropout避免Overfitting\n",
    "model.add(Conv2D(filters=32,kernel_size=(3,3), #後續多增加一次Conv2D層\n",
    "                 activation='relu',\n",
    "                 padding='same'))\n",
    "model.add(MaxPooling2D(pool_size=(2,2))) #池化層"
   ]
  },
  {
   "cell_type": "markdown",
   "metadata": {},
   "source": [
    "建立卷積層2與池化層2"
   ]
  },
  {
   "cell_type": "code",
   "execution_count": 17,
   "metadata": {},
   "outputs": [],
   "source": [
    "model.add(Conv2D(filters=64,kernel_size=(3,3),\n",
    "                 activation='relu',\n",
    "                 padding='same'))\n",
    "model.add(Dropout(rate=0.3))\n",
    "model.add(Conv2D(filters=64,kernel_size=(3,3),\n",
    "                 activation='relu',\n",
    "                 padding='same'))\n",
    "model.add(MaxPooling2D(pool_size=(2,2)))"
   ]
  },
  {
   "cell_type": "markdown",
   "metadata": {},
   "source": [
    "建立卷積層3與池化層3"
   ]
  },
  {
   "cell_type": "code",
   "execution_count": 18,
   "metadata": {},
   "outputs": [],
   "source": [
    "model.add(Conv2D(filters=128, kernel_size=(3, 3),\n",
    "                activation='relu', padding='same'))\n",
    "model.add(Dropout(rate=0.3))\n",
    "model.add(Conv2D(filters=128, kernel_size=(3, 3),\n",
    "                activation='relu', padding='same'))\n",
    "model.add(MaxPooling2D(pool_size=(2,2)))"
   ]
  },
  {
   "cell_type": "markdown",
   "metadata": {},
   "source": [
    "建立神經網路(平坦層、隱藏層、輸出層)"
   ]
  },
  {
   "cell_type": "code",
   "execution_count": 19,
   "metadata": {},
   "outputs": [],
   "source": [
    "model.add(Flatten())\n",
    "model.add(Dropout(rate=0.3))\n",
    "model.add(Dense(1024, activation='relu'))\n",
    "model.add(Dropout(rate=0.3))\n",
    "model.add(Dense(15, activation='softmax'))"
   ]
  },
  {
   "cell_type": "code",
   "execution_count": 20,
   "metadata": {},
   "outputs": [
    {
     "name": "stdout",
     "output_type": "stream",
     "text": [
      "_________________________________________________________________\n",
      "Layer (type)                 Output Shape              Param #   \n",
      "=================================================================\n",
      "conv2d_1 (Conv2D)            (None, 250, 250, 32)      320       \n",
      "_________________________________________________________________\n",
      "dropout_1 (Dropout)          (None, 250, 250, 32)      0         \n",
      "_________________________________________________________________\n",
      "conv2d_2 (Conv2D)            (None, 250, 250, 32)      9248      \n",
      "_________________________________________________________________\n",
      "max_pooling2d_1 (MaxPooling2 (None, 125, 125, 32)      0         \n",
      "_________________________________________________________________\n",
      "conv2d_3 (Conv2D)            (None, 125, 125, 64)      18496     \n",
      "_________________________________________________________________\n",
      "dropout_2 (Dropout)          (None, 125, 125, 64)      0         \n",
      "_________________________________________________________________\n",
      "conv2d_4 (Conv2D)            (None, 125, 125, 64)      36928     \n",
      "_________________________________________________________________\n",
      "max_pooling2d_2 (MaxPooling2 (None, 62, 62, 64)        0         \n",
      "_________________________________________________________________\n",
      "conv2d_5 (Conv2D)            (None, 62, 62, 128)       73856     \n",
      "_________________________________________________________________\n",
      "dropout_3 (Dropout)          (None, 62, 62, 128)       0         \n",
      "_________________________________________________________________\n",
      "conv2d_6 (Conv2D)            (None, 62, 62, 128)       147584    \n",
      "_________________________________________________________________\n",
      "max_pooling2d_3 (MaxPooling2 (None, 31, 31, 128)       0         \n",
      "_________________________________________________________________\n",
      "flatten_1 (Flatten)          (None, 123008)            0         \n",
      "_________________________________________________________________\n",
      "dropout_4 (Dropout)          (None, 123008)            0         \n",
      "_________________________________________________________________\n",
      "dense_1 (Dense)              (None, 1024)              125961216 \n",
      "_________________________________________________________________\n",
      "dropout_5 (Dropout)          (None, 1024)              0         \n",
      "_________________________________________________________________\n",
      "dense_2 (Dense)              (None, 15)                15375     \n",
      "=================================================================\n",
      "Total params: 126,263,023\n",
      "Trainable params: 126,263,023\n",
      "Non-trainable params: 0\n",
      "_________________________________________________________________\n",
      "None\n"
     ]
    }
   ],
   "source": [
    "print(model.summary())"
   ]
  },
  {
   "cell_type": "markdown",
   "metadata": {},
   "source": [
    "# ５.進行訓練"
   ]
  },
  {
   "cell_type": "code",
   "execution_count": 21,
   "metadata": {},
   "outputs": [],
   "source": [
    "model.compile(loss='categorical_crossentropy',\n",
    "              optimizer='adam', metrics=['accuracy'])"
   ]
  },
  {
   "cell_type": "code",
   "execution_count": 22,
   "metadata": {},
   "outputs": [
    {
     "name": "stdout",
     "output_type": "stream",
     "text": [
      "Epoch 1/10\n",
      "4029/4029 [==============================] - 1529s 380ms/step - loss: 1.0851 - acc: 0.6240 - val_loss: 0.7310 - val_acc: 0.7324\n",
      "Epoch 2/10\n",
      "4029/4029 [==============================] - 1525s 379ms/step - loss: 0.4623 - acc: 0.8349 - val_loss: 0.6573 - val_acc: 0.8027\n",
      "Epoch 3/10\n",
      "4029/4029 [==============================] - 1518s 377ms/step - loss: 0.3390 - acc: 0.8791 - val_loss: 0.6605 - val_acc: 0.8027\n",
      "Epoch 4/10\n",
      "4029/4029 [==============================] - 1517s 376ms/step - loss: 0.2774 - acc: 0.9017 - val_loss: 0.7264 - val_acc: 0.8060\n",
      "Epoch 5/10\n",
      "4029/4029 [==============================] - 1515s 376ms/step - loss: 0.2388 - acc: 0.9164 - val_loss: 0.8867 - val_acc: 0.7793\n",
      "Epoch 6/10\n",
      "4029/4029 [==============================] - 1515s 376ms/step - loss: 0.2160 - acc: 0.9256 - val_loss: 0.8770 - val_acc: 0.7860\n",
      "Epoch 7/10\n",
      "4029/4029 [==============================] - 1514s 376ms/step - loss: 0.2007 - acc: 0.9315 - val_loss: 0.7859 - val_acc: 0.8227\n",
      "Epoch 8/10\n",
      "4029/4029 [==============================] - 1512s 375ms/step - loss: 0.1901 - acc: 0.9360 - val_loss: 0.7666 - val_acc: 0.8227\n",
      "Epoch 9/10\n",
      "4029/4029 [==============================] - 1513s 376ms/step - loss: 0.1829 - acc: 0.9388 - val_loss: 0.7240 - val_acc: 0.8127\n",
      "Epoch 10/10\n",
      "4029/4029 [==============================] - 1510s 375ms/step - loss: 0.1754 - acc: 0.9417 - val_loss: 0.8592 - val_acc: 0.8194\n"
     ]
    }
   ],
   "source": [
    "train_datagen.fit(x_train)\n",
    "\n",
    "train_history = model.fit_generator(train_datagen.flow(x_train,  \n",
    "\n",
    "      y_label, batch_size=64),\n",
    "\n",
    "      steps_per_epoch=(len(x_train)*1.5),\n",
    "\n",
    "            epochs=10, validation_data=(x_valid, y_valid))"
   ]
  },
  {
   "cell_type": "code",
   "execution_count": 23,
   "metadata": {},
   "outputs": [],
   "source": [
    "def show_train_history(train_history,train,validation):\n",
    "    plt.plot(train_history.history[train])\n",
    "    plt.plot(train_history.history[validation])\n",
    "    plt.title('Train History')\n",
    "    plt.ylabel(train)\n",
    "    plt.xlabel('Epoch')\n",
    "    plt.legend(['train', 'validation'], loc='upper left')\n",
    "    plt.show()"
   ]
  },
  {
   "cell_type": "code",
   "execution_count": 24,
   "metadata": {},
   "outputs": [
    {
     "data": {
      "image/png": "[encoded data removed]",
      "text/plain": [
       "<matplotlib.figure.Figure at 0x7f99af5474a8>"
      ]
     },
     "metadata": {},
     "output_type": "display_data"
    }
   ],
   "source": [
    "show_train_history(train_history,'acc','val_acc')"
   ]
  },
  {
   "cell_type": "code",
   "execution_count": 25,
   "metadata": {},
   "outputs": [
    {
     "data": {
      "image/png": "[encoded data removed]",
      "text/plain": [
       "<matplotlib.figure.Figure at 0x7f99ac30ce10>"
      ]
     },
     "metadata": {},
     "output_type": "display_data"
    }
   ],
   "source": [
    "show_train_history(train_history,'loss','val_loss')"
   ]
  },
  {
   "cell_type": "markdown",
   "metadata": {},
   "source": [
    "評估模型準確率"
   ]
  },
  {
   "cell_type": "code",
   "execution_count": 26,
   "metadata": {},
   "outputs": [
    {
     "data": {
      "text/plain": [
       "0.81939799430776994"
      ]
     },
     "execution_count": 26,
     "metadata": {},
     "output_type": "execute_result"
    }
   ],
   "source": [
    "scores = model.evaluate(x_valid,\n",
    "                        y_valid, verbose=0)\n",
    "scores[1]"
   ]
  },
  {
   "cell_type": "markdown",
   "metadata": {},
   "source": [
    "匯入測試資料"
   ]
  },
  {
   "cell_type": "code",
   "execution_count": 27,
   "metadata": {},
   "outputs": [],
   "source": [
    "testdata=pd.read_csv(datadir+'img-submission.csv')"
   ]
  },
  {
   "cell_type": "code",
   "execution_count": 28,
   "metadata": {},
   "outputs": [
    {
     "data": {
      "text/html": [
       "<div>\n",
       "<table border=\"1\" class=\"dataframe\">\n",
       "  <thead>\n",
       "    <tr style=\"text-align: right;\">\n",
       "      <th></th>\n",
       "      <th>id</th>\n",
       "      <th>class</th>\n",
       "    </tr>\n",
       "  </thead>\n",
       "  <tbody>\n",
       "    <tr>\n",
       "      <th>0</th>\n",
       "      <td>c117693e1cf24a5232090d1548cb11d4e5ea0df65680c4...</td>\n",
       "      <td>1</td>\n",
       "    </tr>\n",
       "    <tr>\n",
       "      <th>1</th>\n",
       "      <td>96baacc2e97886a998807ce197574821a6dc83c227c746...</td>\n",
       "      <td>1</td>\n",
       "    </tr>\n",
       "    <tr>\n",
       "      <th>2</th>\n",
       "      <td>f9bd26db23eb9b544ca78be79b11b4d1259e802885861d...</td>\n",
       "      <td>1</td>\n",
       "    </tr>\n",
       "    <tr>\n",
       "      <th>3</th>\n",
       "      <td>b42bcd8e6645fcc2ac40ee44b7dc8d74a77081d0aea7a1...</td>\n",
       "      <td>1</td>\n",
       "    </tr>\n",
       "    <tr>\n",
       "      <th>4</th>\n",
       "      <td>5bc53cef9168882f0ff67a81b3e7269f62b7fd5343d06d...</td>\n",
       "      <td>1</td>\n",
       "    </tr>\n",
       "    <tr>\n",
       "      <th>5</th>\n",
       "      <td>f80823d6bff6c0beba6d55a3157d7a4fa2de4f966351e0...</td>\n",
       "      <td>1</td>\n",
       "    </tr>\n",
       "    <tr>\n",
       "      <th>6</th>\n",
       "      <td>3a12151639cf9f8e2af9ea36c2ce6bb15dd8730ea6dc90...</td>\n",
       "      <td>1</td>\n",
       "    </tr>\n",
       "    <tr>\n",
       "      <th>7</th>\n",
       "      <td>a5e0980425df5b98864a9580e081a7209e1b6810ed515a...</td>\n",
       "      <td>1</td>\n",
       "    </tr>\n",
       "    <tr>\n",
       "      <th>8</th>\n",
       "      <td>d4ea833073c4391387bebaef3c51c22861c1ff108cbb3c...</td>\n",
       "      <td>1</td>\n",
       "    </tr>\n",
       "    <tr>\n",
       "      <th>9</th>\n",
       "      <td>013c78d920be5390dbc66ca238ae3f49a2b0cf13e36013...</td>\n",
       "      <td>1</td>\n",
       "    </tr>\n",
       "    <tr>\n",
       "      <th>10</th>\n",
       "      <td>2390366350839d8f2e52faa4b491734171cf88bf948a8f...</td>\n",
       "      <td>1</td>\n",
       "    </tr>\n",
       "    <tr>\n",
       "      <th>11</th>\n",
       "      <td>e1dbee71db867f7a9b86861654e4335f058b5f3040ee62...</td>\n",
       "      <td>1</td>\n",
       "    </tr>\n",
       "    <tr>\n",
       "      <th>12</th>\n",
       "      <td>235793ff4b3fd913564da420c0ab3e06b004d1b3852b76...</td>\n",
       "      <td>1</td>\n",
       "    </tr>\n",
       "    <tr>\n",
       "      <th>13</th>\n",
       "      <td>ad8c7c4f51d832e6ec7de77af21655a3ca9564c3d741b1...</td>\n",
       "      <td>1</td>\n",
       "    </tr>\n",
       "    <tr>\n",
       "      <th>14</th>\n",
       "      <td>57b35ef8a1e099832fbb23db63286ed616ad861de14ff1...</td>\n",
       "      <td>1</td>\n",
       "    </tr>\n",
       "    <tr>\n",
       "      <th>15</th>\n",
       "      <td>f0e671331422dd4599d8ec9707dc10bc1ba1bf0fddb566...</td>\n",
       "      <td>1</td>\n",
       "    </tr>\n",
       "    <tr>\n",
       "      <th>16</th>\n",
       "      <td>73d415d8a4230e2df02a50a9c792c35f033c3f1b8f445b...</td>\n",
       "      <td>1</td>\n",
       "    </tr>\n",
       "    <tr>\n",
       "      <th>17</th>\n",
       "      <td>18f6b8c45d4d9b9fcd101db03311f7726f2e92d149885f...</td>\n",
       "      <td>1</td>\n",
       "    </tr>\n",
       "    <tr>\n",
       "      <th>18</th>\n",
       "      <td>091e72ed1eb8b74b8258f74455f8950eeaaca1bd2166d9...</td>\n",
       "      <td>1</td>\n",
       "    </tr>\n",
       "    <tr>\n",
       "      <th>19</th>\n",
       "      <td>2f1e03ced50e953e502a5cc26691a8fdf60d312e7b2861...</td>\n",
       "      <td>1</td>\n",
       "    </tr>\n",
       "    <tr>\n",
       "      <th>20</th>\n",
       "      <td>dc82ec510849dd62e838548650543b47764b70132aac93...</td>\n",
       "      <td>1</td>\n",
       "    </tr>\n",
       "    <tr>\n",
       "      <th>21</th>\n",
       "      <td>f2b91360c7909872c60c8fa8736306d301effc39b3e9de...</td>\n",
       "      <td>1</td>\n",
       "    </tr>\n",
       "    <tr>\n",
       "      <th>22</th>\n",
       "      <td>d39605133990e9ae156cdbb17355407d83152369890fc6...</td>\n",
       "      <td>1</td>\n",
       "    </tr>\n",
       "    <tr>\n",
       "      <th>23</th>\n",
       "      <td>524c16631f21ddb1337cc40a7d81ed9f353a8b3923d71b...</td>\n",
       "      <td>1</td>\n",
       "    </tr>\n",
       "    <tr>\n",
       "      <th>24</th>\n",
       "      <td>4b049ba0481317572fdbb7065875ed20ea508884ce584c...</td>\n",
       "      <td>1</td>\n",
       "    </tr>\n",
       "    <tr>\n",
       "      <th>25</th>\n",
       "      <td>4cfc1ed7f9285ba0b4cb1ff81035cb204179931d4d5538...</td>\n",
       "      <td>1</td>\n",
       "    </tr>\n",
       "    <tr>\n",
       "      <th>26</th>\n",
       "      <td>19504ed765dfa4e0c154fa6887f7660fe9d9783c053746...</td>\n",
       "      <td>1</td>\n",
       "    </tr>\n",
       "    <tr>\n",
       "      <th>27</th>\n",
       "      <td>531806fc56c295d1265a6f6f226bb91a3a3b63e0f481ed...</td>\n",
       "      <td>1</td>\n",
       "    </tr>\n",
       "    <tr>\n",
       "      <th>28</th>\n",
       "      <td>6fad8595cc313abc96446913c5098a3924fcb898ffe6e8...</td>\n",
       "      <td>1</td>\n",
       "    </tr>\n",
       "    <tr>\n",
       "      <th>29</th>\n",
       "      <td>20fad687a68e7b6fe3430dcbd01de824cef26618e622ab...</td>\n",
       "      <td>1</td>\n",
       "    </tr>\n",
       "    <tr>\n",
       "      <th>...</th>\n",
       "      <td>...</td>\n",
       "      <td>...</td>\n",
       "    </tr>\n",
       "    <tr>\n",
       "      <th>1470</th>\n",
       "      <td>2731a3109c0b1cf8cc125e809981893de40d3ce9c0c0d3...</td>\n",
       "      <td>1</td>\n",
       "    </tr>\n",
       "    <tr>\n",
       "      <th>1471</th>\n",
       "      <td>9f3486abba777207052c745daf1043de4927fad0bf4e65...</td>\n",
       "      <td>1</td>\n",
       "    </tr>\n",
       "    <tr>\n",
       "      <th>1472</th>\n",
       "      <td>8c74247803c18f017a817e15a09b2e03a21bfb780589fc...</td>\n",
       "      <td>1</td>\n",
       "    </tr>\n",
       "    <tr>\n",
       "      <th>1473</th>\n",
       "      <td>668c168032417601933bee0cf75cd840a9452e8f3d090c...</td>\n",
       "      <td>1</td>\n",
       "    </tr>\n",
       "    <tr>\n",
       "      <th>1474</th>\n",
       "      <td>e5655c77a2cfb8b1176b4f2def651b7a1b76b92ab2c52d...</td>\n",
       "      <td>1</td>\n",
       "    </tr>\n",
       "    <tr>\n",
       "      <th>1475</th>\n",
       "      <td>a3b9da12c448ba23534f08732014a827d770c113d35dfa...</td>\n",
       "      <td>1</td>\n",
       "    </tr>\n",
       "    <tr>\n",
       "      <th>1476</th>\n",
       "      <td>79d8910424501abea0670c9b5ffbcf8d18e614fc9af3ab...</td>\n",
       "      <td>1</td>\n",
       "    </tr>\n",
       "    <tr>\n",
       "      <th>1477</th>\n",
       "      <td>203e884b4a7c3584fbf646dbbf61c9632d07169ba7682f...</td>\n",
       "      <td>1</td>\n",
       "    </tr>\n",
       "    <tr>\n",
       "      <th>1478</th>\n",
       "      <td>d26607221f7c437f30e61c8fe5cd7d09581fb475255bf7...</td>\n",
       "      <td>1</td>\n",
       "    </tr>\n",
       "    <tr>\n",
       "      <th>1479</th>\n",
       "      <td>711bf1c8e61143c8b67691b3b968b56fb78cf7e224191a...</td>\n",
       "      <td>1</td>\n",
       "    </tr>\n",
       "    <tr>\n",
       "      <th>1480</th>\n",
       "      <td>9b93d741e0630c40c01313a7e321083aeb2d44e0f0b687...</td>\n",
       "      <td>1</td>\n",
       "    </tr>\n",
       "    <tr>\n",
       "      <th>1481</th>\n",
       "      <td>9587db23cc21670ad32c8ba5e8302989619edab61ad223...</td>\n",
       "      <td>1</td>\n",
       "    </tr>\n",
       "    <tr>\n",
       "      <th>1482</th>\n",
       "      <td>d3a304c82207c6b365669604a1bee792849c0faaa0ee7c...</td>\n",
       "      <td>1</td>\n",
       "    </tr>\n",
       "    <tr>\n",
       "      <th>1483</th>\n",
       "      <td>44723fa6dc3080a217f486cdcb5689b34711c54a2e484d...</td>\n",
       "      <td>1</td>\n",
       "    </tr>\n",
       "    <tr>\n",
       "      <th>1484</th>\n",
       "      <td>57be3bfc164710761e43cc4a87fd0501177d5621ccb58d...</td>\n",
       "      <td>1</td>\n",
       "    </tr>\n",
       "    <tr>\n",
       "      <th>1485</th>\n",
       "      <td>08d5c3c287896e4e8600f5fea1d07aa22d5523a14152de...</td>\n",
       "      <td>1</td>\n",
       "    </tr>\n",
       "    <tr>\n",
       "      <th>1486</th>\n",
       "      <td>131169514c8e9aa969a4b04742cacf0a34022f006c02a2...</td>\n",
       "      <td>1</td>\n",
       "    </tr>\n",
       "    <tr>\n",
       "      <th>1487</th>\n",
       "      <td>e826ed192c0feb507ef8a0540ea3b2ee7ad6079cab8ef5...</td>\n",
       "      <td>1</td>\n",
       "    </tr>\n",
       "    <tr>\n",
       "      <th>1488</th>\n",
       "      <td>9390a2bed1f51c92e1410417230e1604751313966a7622...</td>\n",
       "      <td>1</td>\n",
       "    </tr>\n",
       "    <tr>\n",
       "      <th>1489</th>\n",
       "      <td>b271154341257e92cc11992f05b22d9a5b12ca086869fb...</td>\n",
       "      <td>1</td>\n",
       "    </tr>\n",
       "    <tr>\n",
       "      <th>1490</th>\n",
       "      <td>8e5cd60255952f6448102841955b7cfcee3f51a09ea657...</td>\n",
       "      <td>1</td>\n",
       "    </tr>\n",
       "    <tr>\n",
       "      <th>1491</th>\n",
       "      <td>b7e1e369235e143eb528babd33e3a57ed4fd37fb82af83...</td>\n",
       "      <td>1</td>\n",
       "    </tr>\n",
       "    <tr>\n",
       "      <th>1492</th>\n",
       "      <td>6483dbe353c3c1bc775f0f71bfb54afd4247f73d0a4c3d...</td>\n",
       "      <td>1</td>\n",
       "    </tr>\n",
       "    <tr>\n",
       "      <th>1493</th>\n",
       "      <td>4407afc40a9e8387d9bd30c6a2d8889e1438fb4087e925...</td>\n",
       "      <td>1</td>\n",
       "    </tr>\n",
       "    <tr>\n",
       "      <th>1494</th>\n",
       "      <td>988fdaad8ea3f1a5c40b9924e0aaeaaa8fc2d69ee7dae7...</td>\n",
       "      <td>1</td>\n",
       "    </tr>\n",
       "    <tr>\n",
       "      <th>1495</th>\n",
       "      <td>1c187eeacb3f0273aa63c78a33830f7f1994c9fdefc0d3...</td>\n",
       "      <td>1</td>\n",
       "    </tr>\n",
       "    <tr>\n",
       "      <th>1496</th>\n",
       "      <td>6e4ea3ed2f89cb810f07805172908a0882bec84dc3b0b6...</td>\n",
       "      <td>1</td>\n",
       "    </tr>\n",
       "    <tr>\n",
       "      <th>1497</th>\n",
       "      <td>1e2d69d3019e3e538356a57808ac499bff112229bfffdb...</td>\n",
       "      <td>1</td>\n",
       "    </tr>\n",
       "    <tr>\n",
       "      <th>1498</th>\n",
       "      <td>6dcdc1437ad13e2706eab3b05f95de1b8081d0527b99d0...</td>\n",
       "      <td>1</td>\n",
       "    </tr>\n",
       "    <tr>\n",
       "      <th>1499</th>\n",
       "      <td>36fe51710b536ac94303a8d2630799ff75c7eda374d342...</td>\n",
       "      <td>1</td>\n",
       "    </tr>\n",
       "  </tbody>\n",
       "</table>\n",
       "<p>1500 rows × 2 columns</p>\n",
       "</div>"
      ],
      "text/plain": [
       "                                                     id  class\n",
       "0     c117693e1cf24a5232090d1548cb11d4e5ea0df65680c4...      1\n",
       "1     96baacc2e97886a998807ce197574821a6dc83c227c746...      1\n",
       "2     f9bd26db23eb9b544ca78be79b11b4d1259e802885861d...      1\n",
       "3     b42bcd8e6645fcc2ac40ee44b7dc8d74a77081d0aea7a1...      1\n",
       "4     5bc53cef9168882f0ff67a81b3e7269f62b7fd5343d06d...      1\n",
       "5     f80823d6bff6c0beba6d55a3157d7a4fa2de4f966351e0...      1\n",
       "6     3a12151639cf9f8e2af9ea36c2ce6bb15dd8730ea6dc90...      1\n",
       "7     a5e0980425df5b98864a9580e081a7209e1b6810ed515a...      1\n",
       "8     d4ea833073c4391387bebaef3c51c22861c1ff108cbb3c...      1\n",
       "9     013c78d920be5390dbc66ca238ae3f49a2b0cf13e36013...      1\n",
       "10    2390366350839d8f2e52faa4b491734171cf88bf948a8f...      1\n",
       "11    e1dbee71db867f7a9b86861654e4335f058b5f3040ee62...      1\n",
       "12    235793ff4b3fd913564da420c0ab3e06b004d1b3852b76...      1\n",
       "13    ad8c7c4f51d832e6ec7de77af21655a3ca9564c3d741b1...      1\n",
       "14    57b35ef8a1e099832fbb23db63286ed616ad861de14ff1...      1\n",
       "15    f0e671331422dd4599d8ec9707dc10bc1ba1bf0fddb566...      1\n",
       "16    73d415d8a4230e2df02a50a9c792c35f033c3f1b8f445b...      1\n",
       "17    18f6b8c45d4d9b9fcd101db03311f7726f2e92d149885f...      1\n",
       "18    091e72ed1eb8b74b8258f74455f8950eeaaca1bd2166d9...      1\n",
       "19    2f1e03ced50e953e502a5cc26691a8fdf60d312e7b2861...      1\n",
       "20    dc82ec510849dd62e838548650543b47764b70132aac93...      1\n",
       "21    f2b91360c7909872c60c8fa8736306d301effc39b3e9de...      1\n",
       "22    d39605133990e9ae156cdbb17355407d83152369890fc6...      1\n",
       "23    524c16631f21ddb1337cc40a7d81ed9f353a8b3923d71b...      1\n",
       "24    4b049ba0481317572fdbb7065875ed20ea508884ce584c...      1\n",
       "25    4cfc1ed7f9285ba0b4cb1ff81035cb204179931d4d5538...      1\n",
       "26    19504ed765dfa4e0c154fa6887f7660fe9d9783c053746...      1\n",
       "27    531806fc56c295d1265a6f6f226bb91a3a3b63e0f481ed...      1\n",
       "28    6fad8595cc313abc96446913c5098a3924fcb898ffe6e8...      1\n",
       "29    20fad687a68e7b6fe3430dcbd01de824cef26618e622ab...      1\n",
       "...                                                 ...    ...\n",
       "1470  2731a3109c0b1cf8cc125e809981893de40d3ce9c0c0d3...      1\n",
       "1471  9f3486abba777207052c745daf1043de4927fad0bf4e65...      1\n",
       "1472  8c74247803c18f017a817e15a09b2e03a21bfb780589fc...      1\n",
       "1473  668c168032417601933bee0cf75cd840a9452e8f3d090c...      1\n",
       "1474  e5655c77a2cfb8b1176b4f2def651b7a1b76b92ab2c52d...      1\n",
       "1475  a3b9da12c448ba23534f08732014a827d770c113d35dfa...      1\n",
       "1476  79d8910424501abea0670c9b5ffbcf8d18e614fc9af3ab...      1\n",
       "1477  203e884b4a7c3584fbf646dbbf61c9632d07169ba7682f...      1\n",
       "1478  d26607221f7c437f30e61c8fe5cd7d09581fb475255bf7...      1\n",
       "1479  711bf1c8e61143c8b67691b3b968b56fb78cf7e224191a...      1\n",
       "1480  9b93d741e0630c40c01313a7e321083aeb2d44e0f0b687...      1\n",
       "1481  9587db23cc21670ad32c8ba5e8302989619edab61ad223...      1\n",
       "1482  d3a304c82207c6b365669604a1bee792849c0faaa0ee7c...      1\n",
       "1483  44723fa6dc3080a217f486cdcb5689b34711c54a2e484d...      1\n",
       "1484  57be3bfc164710761e43cc4a87fd0501177d5621ccb58d...      1\n",
       "1485  08d5c3c287896e4e8600f5fea1d07aa22d5523a14152de...      1\n",
       "1486  131169514c8e9aa969a4b04742cacf0a34022f006c02a2...      1\n",
       "1487  e826ed192c0feb507ef8a0540ea3b2ee7ad6079cab8ef5...      1\n",
       "1488  9390a2bed1f51c92e1410417230e1604751313966a7622...      1\n",
       "1489  b271154341257e92cc11992f05b22d9a5b12ca086869fb...      1\n",
       "1490  8e5cd60255952f6448102841955b7cfcee3f51a09ea657...      1\n",
       "1491  b7e1e369235e143eb528babd33e3a57ed4fd37fb82af83...      1\n",
       "1492  6483dbe353c3c1bc775f0f71bfb54afd4247f73d0a4c3d...      1\n",
       "1493  4407afc40a9e8387d9bd30c6a2d8889e1438fb4087e925...      1\n",
       "1494  988fdaad8ea3f1a5c40b9924e0aaeaaa8fc2d69ee7dae7...      1\n",
       "1495  1c187eeacb3f0273aa63c78a33830f7f1994c9fdefc0d3...      1\n",
       "1496  6e4ea3ed2f89cb810f07805172908a0882bec84dc3b0b6...      1\n",
       "1497  1e2d69d3019e3e538356a57808ac499bff112229bfffdb...      1\n",
       "1498  6dcdc1437ad13e2706eab3b05f95de1b8081d0527b99d0...      1\n",
       "1499  36fe51710b536ac94303a8d2630799ff75c7eda374d342...      1\n",
       "\n",
       "[1500 rows x 2 columns]"
      ]
     },
     "execution_count": 28,
     "metadata": {},
     "output_type": "execute_result"
    }
   ],
   "source": [
    "testdata"
   ]
  },
  {
   "cell_type": "code",
   "execution_count": 29,
   "metadata": {},
   "outputs": [],
   "source": [
    "testdataindexlist=testdata.id.as_matrix().tolist()"
   ]
  },
  {
   "cell_type": "code",
   "execution_count": 30,
   "metadata": {},
   "outputs": [],
   "source": [
    "x_t=[]\n",
    "\n",
    "\n",
    "\n",
    "for f in testdataindexlist:\n",
    "    img=cv2.imread(datadir+'testset/'+f+'.jpg',0)\n",
    "    img200=cv2.resize(img,(sz,sz))\n",
    "    iii=(np.reshape(img200,(sz,sz,1))).astype(float)\n",
    "    x_t.append(iii)\n",
    "\n",
    "        \n",
    "x_test=np.array(x_t)"
   ]
  },
  {
   "cell_type": "code",
   "execution_count": 31,
   "metadata": {},
   "outputs": [
    {
     "data": {
      "text/plain": [
       "(1500, 250, 250, 1)"
      ]
     },
     "execution_count": 31,
     "metadata": {},
     "output_type": "execute_result"
    }
   ],
   "source": [
    "x_test.shape"
   ]
  },
  {
   "cell_type": "code",
   "execution_count": 32,
   "metadata": {},
   "outputs": [],
   "source": [
    "x_test = x_test / 255.0 #Normalization"
   ]
  },
  {
   "cell_type": "markdown",
   "metadata": {},
   "source": [
    "## ６.進行預測"
   ]
  },
  {
   "cell_type": "code",
   "execution_count": 33,
   "metadata": {},
   "outputs": [],
   "source": [
    "predict=model.predict_classes(x_test)"
   ]
  },
  {
   "cell_type": "code",
   "execution_count": 34,
   "metadata": {},
   "outputs": [
    {
     "data": {
      "text/plain": [
       "array([12, 14, 12, ...,  7,  5,  8])"
      ]
     },
     "execution_count": 34,
     "metadata": {},
     "output_type": "execute_result"
    }
   ],
   "source": [
    "predict"
   ]
  },
  {
   "cell_type": "code",
   "execution_count": 35,
   "metadata": {},
   "outputs": [
    {
     "data": {
      "text/plain": [
       "1500"
      ]
     },
     "execution_count": 35,
     "metadata": {},
     "output_type": "execute_result"
    }
   ],
   "source": [
    "testdata.id.count()"
   ]
  },
  {
   "cell_type": "markdown",
   "metadata": {},
   "source": [
    "將預測資料label匯入testdata"
   ]
  },
  {
   "cell_type": "code",
   "execution_count": 36,
   "metadata": {},
   "outputs": [
    {
     "name": "stderr",
     "output_type": "stream",
     "text": [
      "/opt/conda/lib/python3.6/site-packages/ipykernel_launcher.py:4: SettingWithCopyWarning: \n",
      "A value is trying to be set on a copy of a slice from a DataFrame\n",
      "\n",
      "See the caveats in the documentation: http://pandas.pydata.org/pandas-docs/stable/indexing.html#indexing-view-versus-copy\n",
      "  after removing the cwd from sys.path.\n"
     ]
    }
   ],
   "source": [
    "#sss=testdata.id.count()\n",
    "#print(sss)\n",
    "for j in range(0,len(x_test)-1):\n",
    "    testdata['class'][j] = predict[j]"
   ]
  },
  {
   "cell_type": "code",
   "execution_count": 37,
   "metadata": {},
   "outputs": [
    {
     "data": {
      "text/html": [
       "<div>\n",
       "<table border=\"1\" class=\"dataframe\">\n",
       "  <thead>\n",
       "    <tr style=\"text-align: right;\">\n",
       "      <th></th>\n",
       "      <th>id</th>\n",
       "      <th>class</th>\n",
       "    </tr>\n",
       "  </thead>\n",
       "  <tbody>\n",
       "    <tr>\n",
       "      <th>0</th>\n",
       "      <td>c117693e1cf24a5232090d1548cb11d4e5ea0df65680c4...</td>\n",
       "      <td>12</td>\n",
       "    </tr>\n",
       "    <tr>\n",
       "      <th>1</th>\n",
       "      <td>96baacc2e97886a998807ce197574821a6dc83c227c746...</td>\n",
       "      <td>14</td>\n",
       "    </tr>\n",
       "    <tr>\n",
       "      <th>2</th>\n",
       "      <td>f9bd26db23eb9b544ca78be79b11b4d1259e802885861d...</td>\n",
       "      <td>12</td>\n",
       "    </tr>\n",
       "    <tr>\n",
       "      <th>3</th>\n",
       "      <td>b42bcd8e6645fcc2ac40ee44b7dc8d74a77081d0aea7a1...</td>\n",
       "      <td>5</td>\n",
       "    </tr>\n",
       "    <tr>\n",
       "      <th>4</th>\n",
       "      <td>5bc53cef9168882f0ff67a81b3e7269f62b7fd5343d06d...</td>\n",
       "      <td>2</td>\n",
       "    </tr>\n",
       "    <tr>\n",
       "      <th>5</th>\n",
       "      <td>f80823d6bff6c0beba6d55a3157d7a4fa2de4f966351e0...</td>\n",
       "      <td>7</td>\n",
       "    </tr>\n",
       "    <tr>\n",
       "      <th>6</th>\n",
       "      <td>3a12151639cf9f8e2af9ea36c2ce6bb15dd8730ea6dc90...</td>\n",
       "      <td>13</td>\n",
       "    </tr>\n",
       "    <tr>\n",
       "      <th>7</th>\n",
       "      <td>a5e0980425df5b98864a9580e081a7209e1b6810ed515a...</td>\n",
       "      <td>10</td>\n",
       "    </tr>\n",
       "    <tr>\n",
       "      <th>8</th>\n",
       "      <td>d4ea833073c4391387bebaef3c51c22861c1ff108cbb3c...</td>\n",
       "      <td>11</td>\n",
       "    </tr>\n",
       "    <tr>\n",
       "      <th>9</th>\n",
       "      <td>013c78d920be5390dbc66ca238ae3f49a2b0cf13e36013...</td>\n",
       "      <td>6</td>\n",
       "    </tr>\n",
       "    <tr>\n",
       "      <th>10</th>\n",
       "      <td>2390366350839d8f2e52faa4b491734171cf88bf948a8f...</td>\n",
       "      <td>0</td>\n",
       "    </tr>\n",
       "    <tr>\n",
       "      <th>11</th>\n",
       "      <td>e1dbee71db867f7a9b86861654e4335f058b5f3040ee62...</td>\n",
       "      <td>3</td>\n",
       "    </tr>\n",
       "    <tr>\n",
       "      <th>12</th>\n",
       "      <td>235793ff4b3fd913564da420c0ab3e06b004d1b3852b76...</td>\n",
       "      <td>3</td>\n",
       "    </tr>\n",
       "    <tr>\n",
       "      <th>13</th>\n",
       "      <td>ad8c7c4f51d832e6ec7de77af21655a3ca9564c3d741b1...</td>\n",
       "      <td>8</td>\n",
       "    </tr>\n",
       "    <tr>\n",
       "      <th>14</th>\n",
       "      <td>57b35ef8a1e099832fbb23db63286ed616ad861de14ff1...</td>\n",
       "      <td>2</td>\n",
       "    </tr>\n",
       "    <tr>\n",
       "      <th>15</th>\n",
       "      <td>f0e671331422dd4599d8ec9707dc10bc1ba1bf0fddb566...</td>\n",
       "      <td>10</td>\n",
       "    </tr>\n",
       "    <tr>\n",
       "      <th>16</th>\n",
       "      <td>73d415d8a4230e2df02a50a9c792c35f033c3f1b8f445b...</td>\n",
       "      <td>5</td>\n",
       "    </tr>\n",
       "    <tr>\n",
       "      <th>17</th>\n",
       "      <td>18f6b8c45d4d9b9fcd101db03311f7726f2e92d149885f...</td>\n",
       "      <td>1</td>\n",
       "    </tr>\n",
       "    <tr>\n",
       "      <th>18</th>\n",
       "      <td>091e72ed1eb8b74b8258f74455f8950eeaaca1bd2166d9...</td>\n",
       "      <td>11</td>\n",
       "    </tr>\n",
       "    <tr>\n",
       "      <th>19</th>\n",
       "      <td>2f1e03ced50e953e502a5cc26691a8fdf60d312e7b2861...</td>\n",
       "      <td>7</td>\n",
       "    </tr>\n",
       "    <tr>\n",
       "      <th>20</th>\n",
       "      <td>dc82ec510849dd62e838548650543b47764b70132aac93...</td>\n",
       "      <td>14</td>\n",
       "    </tr>\n",
       "    <tr>\n",
       "      <th>21</th>\n",
       "      <td>f2b91360c7909872c60c8fa8736306d301effc39b3e9de...</td>\n",
       "      <td>5</td>\n",
       "    </tr>\n",
       "    <tr>\n",
       "      <th>22</th>\n",
       "      <td>d39605133990e9ae156cdbb17355407d83152369890fc6...</td>\n",
       "      <td>5</td>\n",
       "    </tr>\n",
       "    <tr>\n",
       "      <th>23</th>\n",
       "      <td>524c16631f21ddb1337cc40a7d81ed9f353a8b3923d71b...</td>\n",
       "      <td>8</td>\n",
       "    </tr>\n",
       "    <tr>\n",
       "      <th>24</th>\n",
       "      <td>4b049ba0481317572fdbb7065875ed20ea508884ce584c...</td>\n",
       "      <td>10</td>\n",
       "    </tr>\n",
       "    <tr>\n",
       "      <th>25</th>\n",
       "      <td>4cfc1ed7f9285ba0b4cb1ff81035cb204179931d4d5538...</td>\n",
       "      <td>1</td>\n",
       "    </tr>\n",
       "    <tr>\n",
       "      <th>26</th>\n",
       "      <td>19504ed765dfa4e0c154fa6887f7660fe9d9783c053746...</td>\n",
       "      <td>11</td>\n",
       "    </tr>\n",
       "    <tr>\n",
       "      <th>27</th>\n",
       "      <td>531806fc56c295d1265a6f6f226bb91a3a3b63e0f481ed...</td>\n",
       "      <td>13</td>\n",
       "    </tr>\n",
       "    <tr>\n",
       "      <th>28</th>\n",
       "      <td>6fad8595cc313abc96446913c5098a3924fcb898ffe6e8...</td>\n",
       "      <td>10</td>\n",
       "    </tr>\n",
       "    <tr>\n",
       "      <th>29</th>\n",
       "      <td>20fad687a68e7b6fe3430dcbd01de824cef26618e622ab...</td>\n",
       "      <td>8</td>\n",
       "    </tr>\n",
       "    <tr>\n",
       "      <th>...</th>\n",
       "      <td>...</td>\n",
       "      <td>...</td>\n",
       "    </tr>\n",
       "    <tr>\n",
       "      <th>1470</th>\n",
       "      <td>2731a3109c0b1cf8cc125e809981893de40d3ce9c0c0d3...</td>\n",
       "      <td>7</td>\n",
       "    </tr>\n",
       "    <tr>\n",
       "      <th>1471</th>\n",
       "      <td>9f3486abba777207052c745daf1043de4927fad0bf4e65...</td>\n",
       "      <td>10</td>\n",
       "    </tr>\n",
       "    <tr>\n",
       "      <th>1472</th>\n",
       "      <td>8c74247803c18f017a817e15a09b2e03a21bfb780589fc...</td>\n",
       "      <td>13</td>\n",
       "    </tr>\n",
       "    <tr>\n",
       "      <th>1473</th>\n",
       "      <td>668c168032417601933bee0cf75cd840a9452e8f3d090c...</td>\n",
       "      <td>6</td>\n",
       "    </tr>\n",
       "    <tr>\n",
       "      <th>1474</th>\n",
       "      <td>e5655c77a2cfb8b1176b4f2def651b7a1b76b92ab2c52d...</td>\n",
       "      <td>13</td>\n",
       "    </tr>\n",
       "    <tr>\n",
       "      <th>1475</th>\n",
       "      <td>a3b9da12c448ba23534f08732014a827d770c113d35dfa...</td>\n",
       "      <td>0</td>\n",
       "    </tr>\n",
       "    <tr>\n",
       "      <th>1476</th>\n",
       "      <td>79d8910424501abea0670c9b5ffbcf8d18e614fc9af3ab...</td>\n",
       "      <td>8</td>\n",
       "    </tr>\n",
       "    <tr>\n",
       "      <th>1477</th>\n",
       "      <td>203e884b4a7c3584fbf646dbbf61c9632d07169ba7682f...</td>\n",
       "      <td>0</td>\n",
       "    </tr>\n",
       "    <tr>\n",
       "      <th>1478</th>\n",
       "      <td>d26607221f7c437f30e61c8fe5cd7d09581fb475255bf7...</td>\n",
       "      <td>6</td>\n",
       "    </tr>\n",
       "    <tr>\n",
       "      <th>1479</th>\n",
       "      <td>711bf1c8e61143c8b67691b3b968b56fb78cf7e224191a...</td>\n",
       "      <td>2</td>\n",
       "    </tr>\n",
       "    <tr>\n",
       "      <th>1480</th>\n",
       "      <td>9b93d741e0630c40c01313a7e321083aeb2d44e0f0b687...</td>\n",
       "      <td>4</td>\n",
       "    </tr>\n",
       "    <tr>\n",
       "      <th>1481</th>\n",
       "      <td>9587db23cc21670ad32c8ba5e8302989619edab61ad223...</td>\n",
       "      <td>1</td>\n",
       "    </tr>\n",
       "    <tr>\n",
       "      <th>1482</th>\n",
       "      <td>d3a304c82207c6b365669604a1bee792849c0faaa0ee7c...</td>\n",
       "      <td>5</td>\n",
       "    </tr>\n",
       "    <tr>\n",
       "      <th>1483</th>\n",
       "      <td>44723fa6dc3080a217f486cdcb5689b34711c54a2e484d...</td>\n",
       "      <td>7</td>\n",
       "    </tr>\n",
       "    <tr>\n",
       "      <th>1484</th>\n",
       "      <td>57be3bfc164710761e43cc4a87fd0501177d5621ccb58d...</td>\n",
       "      <td>7</td>\n",
       "    </tr>\n",
       "    <tr>\n",
       "      <th>1485</th>\n",
       "      <td>08d5c3c287896e4e8600f5fea1d07aa22d5523a14152de...</td>\n",
       "      <td>14</td>\n",
       "    </tr>\n",
       "    <tr>\n",
       "      <th>1486</th>\n",
       "      <td>131169514c8e9aa969a4b04742cacf0a34022f006c02a2...</td>\n",
       "      <td>2</td>\n",
       "    </tr>\n",
       "    <tr>\n",
       "      <th>1487</th>\n",
       "      <td>e826ed192c0feb507ef8a0540ea3b2ee7ad6079cab8ef5...</td>\n",
       "      <td>5</td>\n",
       "    </tr>\n",
       "    <tr>\n",
       "      <th>1488</th>\n",
       "      <td>9390a2bed1f51c92e1410417230e1604751313966a7622...</td>\n",
       "      <td>5</td>\n",
       "    </tr>\n",
       "    <tr>\n",
       "      <th>1489</th>\n",
       "      <td>b271154341257e92cc11992f05b22d9a5b12ca086869fb...</td>\n",
       "      <td>7</td>\n",
       "    </tr>\n",
       "    <tr>\n",
       "      <th>1490</th>\n",
       "      <td>8e5cd60255952f6448102841955b7cfcee3f51a09ea657...</td>\n",
       "      <td>12</td>\n",
       "    </tr>\n",
       "    <tr>\n",
       "      <th>1491</th>\n",
       "      <td>b7e1e369235e143eb528babd33e3a57ed4fd37fb82af83...</td>\n",
       "      <td>8</td>\n",
       "    </tr>\n",
       "    <tr>\n",
       "      <th>1492</th>\n",
       "      <td>6483dbe353c3c1bc775f0f71bfb54afd4247f73d0a4c3d...</td>\n",
       "      <td>7</td>\n",
       "    </tr>\n",
       "    <tr>\n",
       "      <th>1493</th>\n",
       "      <td>4407afc40a9e8387d9bd30c6a2d8889e1438fb4087e925...</td>\n",
       "      <td>9</td>\n",
       "    </tr>\n",
       "    <tr>\n",
       "      <th>1494</th>\n",
       "      <td>988fdaad8ea3f1a5c40b9924e0aaeaaa8fc2d69ee7dae7...</td>\n",
       "      <td>14</td>\n",
       "    </tr>\n",
       "    <tr>\n",
       "      <th>1495</th>\n",
       "      <td>1c187eeacb3f0273aa63c78a33830f7f1994c9fdefc0d3...</td>\n",
       "      <td>13</td>\n",
       "    </tr>\n",
       "    <tr>\n",
       "      <th>1496</th>\n",
       "      <td>6e4ea3ed2f89cb810f07805172908a0882bec84dc3b0b6...</td>\n",
       "      <td>6</td>\n",
       "    </tr>\n",
       "    <tr>\n",
       "      <th>1497</th>\n",
       "      <td>1e2d69d3019e3e538356a57808ac499bff112229bfffdb...</td>\n",
       "      <td>7</td>\n",
       "    </tr>\n",
       "    <tr>\n",
       "      <th>1498</th>\n",
       "      <td>6dcdc1437ad13e2706eab3b05f95de1b8081d0527b99d0...</td>\n",
       "      <td>5</td>\n",
       "    </tr>\n",
       "    <tr>\n",
       "      <th>1499</th>\n",
       "      <td>36fe51710b536ac94303a8d2630799ff75c7eda374d342...</td>\n",
       "      <td>1</td>\n",
       "    </tr>\n",
       "  </tbody>\n",
       "</table>\n",
       "<p>1500 rows × 2 columns</p>\n",
       "</div>"
      ],
      "text/plain": [
       "                                                     id  class\n",
       "0     c117693e1cf24a5232090d1548cb11d4e5ea0df65680c4...     12\n",
       "1     96baacc2e97886a998807ce197574821a6dc83c227c746...     14\n",
       "2     f9bd26db23eb9b544ca78be79b11b4d1259e802885861d...     12\n",
       "3     b42bcd8e6645fcc2ac40ee44b7dc8d74a77081d0aea7a1...      5\n",
       "4     5bc53cef9168882f0ff67a81b3e7269f62b7fd5343d06d...      2\n",
       "5     f80823d6bff6c0beba6d55a3157d7a4fa2de4f966351e0...      7\n",
       "6     3a12151639cf9f8e2af9ea36c2ce6bb15dd8730ea6dc90...     13\n",
       "7     a5e0980425df5b98864a9580e081a7209e1b6810ed515a...     10\n",
       "8     d4ea833073c4391387bebaef3c51c22861c1ff108cbb3c...     11\n",
       "9     013c78d920be5390dbc66ca238ae3f49a2b0cf13e36013...      6\n",
       "10    2390366350839d8f2e52faa4b491734171cf88bf948a8f...      0\n",
       "11    e1dbee71db867f7a9b86861654e4335f058b5f3040ee62...      3\n",
       "12    235793ff4b3fd913564da420c0ab3e06b004d1b3852b76...      3\n",
       "13    ad8c7c4f51d832e6ec7de77af21655a3ca9564c3d741b1...      8\n",
       "14    57b35ef8a1e099832fbb23db63286ed616ad861de14ff1...      2\n",
       "15    f0e671331422dd4599d8ec9707dc10bc1ba1bf0fddb566...     10\n",
       "16    73d415d8a4230e2df02a50a9c792c35f033c3f1b8f445b...      5\n",
       "17    18f6b8c45d4d9b9fcd101db03311f7726f2e92d149885f...      1\n",
       "18    091e72ed1eb8b74b8258f74455f8950eeaaca1bd2166d9...     11\n",
       "19    2f1e03ced50e953e502a5cc26691a8fdf60d312e7b2861...      7\n",
       "20    dc82ec510849dd62e838548650543b47764b70132aac93...     14\n",
       "21    f2b91360c7909872c60c8fa8736306d301effc39b3e9de...      5\n",
       "22    d39605133990e9ae156cdbb17355407d83152369890fc6...      5\n",
       "23    524c16631f21ddb1337cc40a7d81ed9f353a8b3923d71b...      8\n",
       "24    4b049ba0481317572fdbb7065875ed20ea508884ce584c...     10\n",
       "25    4cfc1ed7f9285ba0b4cb1ff81035cb204179931d4d5538...      1\n",
       "26    19504ed765dfa4e0c154fa6887f7660fe9d9783c053746...     11\n",
       "27    531806fc56c295d1265a6f6f226bb91a3a3b63e0f481ed...     13\n",
       "28    6fad8595cc313abc96446913c5098a3924fcb898ffe6e8...     10\n",
       "29    20fad687a68e7b6fe3430dcbd01de824cef26618e622ab...      8\n",
       "...                                                 ...    ...\n",
       "1470  2731a3109c0b1cf8cc125e809981893de40d3ce9c0c0d3...      7\n",
       "1471  9f3486abba777207052c745daf1043de4927fad0bf4e65...     10\n",
       "1472  8c74247803c18f017a817e15a09b2e03a21bfb780589fc...     13\n",
       "1473  668c168032417601933bee0cf75cd840a9452e8f3d090c...      6\n",
       "1474  e5655c77a2cfb8b1176b4f2def651b7a1b76b92ab2c52d...     13\n",
       "1475  a3b9da12c448ba23534f08732014a827d770c113d35dfa...      0\n",
       "1476  79d8910424501abea0670c9b5ffbcf8d18e614fc9af3ab...      8\n",
       "1477  203e884b4a7c3584fbf646dbbf61c9632d07169ba7682f...      0\n",
       "1478  d26607221f7c437f30e61c8fe5cd7d09581fb475255bf7...      6\n",
       "1479  711bf1c8e61143c8b67691b3b968b56fb78cf7e224191a...      2\n",
       "1480  9b93d741e0630c40c01313a7e321083aeb2d44e0f0b687...      4\n",
       "1481  9587db23cc21670ad32c8ba5e8302989619edab61ad223...      1\n",
       "1482  d3a304c82207c6b365669604a1bee792849c0faaa0ee7c...      5\n",
       "1483  44723fa6dc3080a217f486cdcb5689b34711c54a2e484d...      7\n",
       "1484  57be3bfc164710761e43cc4a87fd0501177d5621ccb58d...      7\n",
       "1485  08d5c3c287896e4e8600f5fea1d07aa22d5523a14152de...     14\n",
       "1486  131169514c8e9aa969a4b04742cacf0a34022f006c02a2...      2\n",
       "1487  e826ed192c0feb507ef8a0540ea3b2ee7ad6079cab8ef5...      5\n",
       "1488  9390a2bed1f51c92e1410417230e1604751313966a7622...      5\n",
       "1489  b271154341257e92cc11992f05b22d9a5b12ca086869fb...      7\n",
       "1490  8e5cd60255952f6448102841955b7cfcee3f51a09ea657...     12\n",
       "1491  b7e1e369235e143eb528babd33e3a57ed4fd37fb82af83...      8\n",
       "1492  6483dbe353c3c1bc775f0f71bfb54afd4247f73d0a4c3d...      7\n",
       "1493  4407afc40a9e8387d9bd30c6a2d8889e1438fb4087e925...      9\n",
       "1494  988fdaad8ea3f1a5c40b9924e0aaeaaa8fc2d69ee7dae7...     14\n",
       "1495  1c187eeacb3f0273aa63c78a33830f7f1994c9fdefc0d3...     13\n",
       "1496  6e4ea3ed2f89cb810f07805172908a0882bec84dc3b0b6...      6\n",
       "1497  1e2d69d3019e3e538356a57808ac499bff112229bfffdb...      7\n",
       "1498  6dcdc1437ad13e2706eab3b05f95de1b8081d0527b99d0...      5\n",
       "1499  36fe51710b536ac94303a8d2630799ff75c7eda374d342...      1\n",
       "\n",
       "[1500 rows x 2 columns]"
      ]
     },
     "execution_count": 37,
     "metadata": {},
     "output_type": "execute_result"
    }
   ],
   "source": [
    "testdata"
   ]
  },
  {
   "cell_type": "markdown",
   "metadata": {},
   "source": [
    "匯出結果"
   ]
  },
  {
   "cell_type": "code",
   "execution_count": 38,
   "metadata": {},
   "outputs": [],
   "source": [
    "testdata.to_csv('ans.csv', index=False)"
   ]
  },
  {
   "cell_type": "markdown",
   "metadata": {},
   "source": [
    "# 參考資料\n",
    "[助教提供範例程式](https://drive.google.com/file/d/1IdjP-CZSWHlLjHIVajLOPJoW51-524Ud/view)<br>\n",
    "[TensorFlow+Keras深度學習人工智慧實務應用](http://tensorflowkeras.blogspot.com/)<br>\n",
    "[CNN(Convolutional Neural Network)](https://www.datacamp.com/community/tutorials/cnn-tensorflow-python)<br>\n",
    "# 成績結算<br>\n",
    "![Scored](/scored.JPG)"
   ]
  },
  {
   "cell_type": "markdown",
   "metadata": {},
   "source": []
  }
 ],
 "metadata": {
  "kernelspec": {
   "display_name": "Python 3",
   "language": "python",
   "name": "python3"
  },
  "language_info": {
   "codemirror_mode": {
    "name": "ipython",
    "version": 3
   },
   "file_extension": ".py",
   "mimetype": "text/x-python",
   "name": "python",
   "nbconvert_exporter": "python",
   "pygments_lexer": "ipython3",
   "version": "3.6.3"
  }
 },
 "nbformat": 4,
 "nbformat_minor": 2
}
